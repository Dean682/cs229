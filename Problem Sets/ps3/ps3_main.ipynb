{
 "cells": [
  {
   "cell_type": "markdown",
   "metadata": {},
   "source": [
    "# <div style=\"text-align: center\">cs229: Problem Set 3</div>"
   ]
  },
  {
   "cell_type": "markdown",
   "metadata": {},
   "source": [
    "![title](images/ps3_problem1.png)"
   ]
  },
  {
   "cell_type": "markdown",
   "metadata": {},
   "source": [
    "![title](images/ps3_problem1a.png)"
   ]
  },
  {
   "cell_type": "markdown",
   "metadata": {},
   "source": [
    "## Answer\n",
    "$$ \\frac{\\partial{l}}{\\partial{w_{1,2}^{[1]}}} = \n",
    "\\frac{\\partial{l}}{\\partial{o}} \n",
    "\\frac{\\partial{o}}{\\partial{w_2^{[2]}}} \n",
    "\\frac{\\partial{w_2^{[2]}}}{\\partial{h_2}} \n",
    "\\frac{\\partial{h_2}}{\\partial{w_{1,2}^{[1]}}}\n",
    "$$"
   ]
  },
  {
   "cell_type": "markdown",
   "metadata": {},
   "source": [
    "$$\n",
    "\\frac{\\partial{l}}{\\partial{o}}  = \\frac{2}{m}\\sum_{i=1}{m}\\left(o^{\\left(i\\right)}-y^{\\left(i\\right)}\\right)$$\n",
    "$$\\frac{\\partial{h_2}}{\\partial{w_{1,2}^{[1]}}} = \\sigma\\left(1-\\sigma\\right)x_1$$"
   ]
  },
  {
   "cell_type": "markdown",
   "metadata": {},
   "source": [
    "$$ \\frac{\\partial{l}}{\\partial{w_{1,2}^{[1]}}} = \n",
    "\\frac{2}{m}\\sum_{i=1}{m}\\left(o^{\\left(i\\right)}-y^{\\left(i\\right)}\\right)\n",
    "\\frac{\\partial{o}}{\\partial{w_2^{[2]}}} \n",
    "\\frac{\\partial{w_2^{[2]}}}{\\partial{h_2}} \n",
    "\\sigma\\left(1-\\sigma\\right)x_1\n",
    "$$"
   ]
  },
  {
   "cell_type": "markdown",
   "metadata": {},
   "source": [
    "![title](images/ps3_problem1b.png)"
   ]
  },
  {
   "cell_type": "markdown",
   "metadata": {},
   "source": [
    "## Answer\n",
    "$$\n",
    "\\begin{array}{r}\n",
    "w_{0,1}^{[1]}=-0.5, w_{1,1}^{[1]}=1, w_{2,1}^{[1]}=0 \\\\\n",
    "w_{0,2}^{[1]}=-0.5, w_{1,2}^{[1]}=0, w_{2,2}^{[1]}=1 \\\\\n",
    "w_{0,3}^{[1]}=4, w_{1,3}^{[1]}=-1, w_{2,3}^{[1]}=-1 \\\\\n",
    "w_{0}^{[2]}=0.8, w_{1}^{[2]}=-1/3, w_{2}^{[2]}=-1/3, w_{3}^{[2]}=-1/3\n",
    "\\end{array}\n",
    "$$"
   ]
  },
  {
   "cell_type": "markdown",
   "metadata": {},
   "source": [
    "![title](images/ps3_problem1c.png)"
   ]
  },
  {
   "cell_type": "markdown",
   "metadata": {},
   "source": [
    "## Answer:\n",
    "A linear activation function will produce a linear decision boundary. However, in this instance the true decision boundary is triangular, so we cannot produce a 100% accurate classifier,  using linear functions for hidden layer."
   ]
  },
  {
   "cell_type": "markdown",
   "metadata": {},
   "source": [
    "![title](images/ps3_problem2.png)"
   ]
  },
  {
   "cell_type": "markdown",
   "metadata": {},
   "source": [
    "## Answer:\n",
    "$$ \\prod_{i=1}^{m} p\\left(x^{\\left(i\\right)} ; \\theta\\right) = \\prod_{i=1}^{m} \\sum_{z^{i}} p\\left(x^{\\left(i\\right)}, z^{(i)} ; \\theta\\right)$$\n",
    "$$\\left(\\prod_{i=1}^{m} p\\left(x^{(i)} \\mid \\theta\\right)\\right) p(\\theta)=\\left(\\prod_{i=1}^{m} \\sum_{z^{(i)}} p\\left(x^{(i)}, z^{(i)} \\mid \\theta\\right)\\right) p(\\theta)$$\n",
    "$$log\\left(\\prod_{i=1}^{m} p\\left(x^{(i)} \\mid \\theta\\right) p(\\theta)\\right)=log\\left(\\left(\\prod_{i=1}^{m} \\sum_{z^{(i)}} p\\left(x^{(i)}, z^{(i)} \\mid \\theta\\right) p(\\theta)\\right)\\right)$$\n"
   ]
  },
  {
   "cell_type": "markdown",
   "metadata": {},
   "source": [
    "$$\\sum_{i=1}^{m} \\sum_{z^{(i)}} log \\left(p\\left(x^{(i)} \\mid \\theta\\right)\\right) + log\\left(p(\\theta)\\right)=\\sum_{i=1}^{m} log \\left( \\sum_{z^{(i)}} p\\left(x^{(i)}, z^{(i)} \\mid \\theta\\right)\\right) + log\\left(p(\\theta)\\right)$$"
   ]
  },
  {
   "cell_type": "markdown",
   "metadata": {},
   "source": [
    "### E-Step:\n",
    "We want to define Q as probability space over $z^{\\left(i\\right)}$, such that it is proportional to $p\\left(x^{(i)}, z^{(i)} \\mid \\theta\\right)$.\n",
    "We will use it to establish lower bound on $ l\\left(\\theta\\right)$, using Jensen's Inequality\n",
    "$$\n",
    "Q := \\frac{p\\left(x^{(i)}, z^{(i)} \\mid \\theta\\right)}{\\sum_{z^{(i)}} p\\left(x^{(i)}, z^{(i)} \\mid \\theta\\right)}\\\\\n",
    "$$\n",
    "$$\n",
    "= \\frac{p\\left(x^{(i)}, z^{(i)} \\mid \\theta\\right)}{p\\left(x^{(i)} \\mid \\theta\\right)}\n",
    "$$\n",
    "$$\n",
    "= \\frac{p\\left(z^{(i)} \\mid x^{(i)} , \\theta\\right)}{p\\left(x^{(i)} \\mid \\theta\\right)}\n",
    "$$"
   ]
  },
  {
   "cell_type": "markdown",
   "metadata": {},
   "source": [
    "$$ \\sum_{i=1}^{m} \\sum_{z^{(i)}} log \\left(p\\left(x^{(i)} \\mid \\theta\\right)\\right) + log\\left(p(\\theta)\\right)= \\left(\\sum_{i=1}^{m} log\\left(\\sum_{z^{(i)}} Q_i\\left(z^{\\left(i\\right)}\\right)\\frac{p\\left(x^{(i)}, z^{(i)} \\mid \\theta\\right)}{Q_i\\left(z^{\\left(i\\right)}\\right)}\\right)\\right) + log\\left(p(\\theta)\\right)\n",
    "$$"
   ]
  },
  {
   "cell_type": "markdown",
   "metadata": {},
   "source": [
    "By Jensen's inequality:\n",
    "$$\\newcommand{\\argmax}[1]{\\underset{#1}{\\operatorname{arg}\\,\\operatorname{max}}\\;}$$\n",
    "$$ \\geq \\left(\\sum_{i=1}^{m} \\sum_{z^{(i)}} Q_i\\left(z^{\\left(i\\right)}\\right) log\\left( \\frac{p\\left(x^{(i)}, z^{(i)} \\mid \\theta\\right)}{Q_i\\left(z^{\\left(i\\right)}\\right)}\\right)\\right) + log\\left(p(\\theta)\\right)\n",
    "$$"
   ]
  },
  {
   "cell_type": "markdown",
   "metadata": {},
   "source": [
    "### By M-Step:\n",
    "$$\n",
    "\\theta := \\argmax{\\theta}\\left(\\sum_{i=1}^{m} \\sum_{z^{(i)}} \\left(Q_i\\left(z^{\\left(i\\right)}\\right) log\\left( \\frac{p\\left(x^{(i)}, z^{(i)} \\mid \\theta\\right)}{Q_i\\left(z^{\\left(i\\right)}\\right)}\\right)\\right) + log\\left(p(\\theta)\\right)\\right)\n",
    "$$ "
   ]
  },
  {
   "cell_type": "markdown",
   "metadata": {},
   "source": [
    "In penultimate E-Step, we optimized log-likelihood with respect to Q, so that Q-probabilities were proportional to $p\\left(x^{(i)}\\right)$. This moves us from our lower bound for log-likelihood (calculated using Jensen's inequality, since log-likelihood is concave) to the actual log-likelihood for our given Q and $\\theta$. \n",
    "\n",
    "Within the M-Step, we optimize log-likelihood with respect to $\\theta$, the new $\\theta$ value, will by definition result in log-likelihood greater than or equal to current log-likelihood: $l\\left(\\theta^{\\left(t+1\\right)}\\right) \\geq l\\left(\\theta^{\\left(t\\right)}\\right)$."
   ]
  },
  {
   "cell_type": "markdown",
   "metadata": {},
   "source": [
    "![title](images/ps3_problem3.png)"
   ]
  },
  {
   "cell_type": "markdown",
   "metadata": {},
   "source": [
    "![title](images/ps3_problem3a.png)"
   ]
  },
  {
   "cell_type": "markdown",
   "metadata": {},
   "source": []
  },
  {
   "cell_type": "markdown",
   "metadata": {},
   "source": [
    "![title](images/ps3_problem3aii.png)"
   ]
  },
  {
   "cell_type": "markdown",
   "metadata": {},
   "source": [
    "![title](images/ps3_problem3aii-2.png)"
   ]
  },
  {
   "cell_type": "markdown",
   "metadata": {},
   "source": []
  },
  {
   "cell_type": "markdown",
   "metadata": {},
   "source": [
    "![title](images/ps3_problem3b.png)"
   ]
  },
  {
   "cell_type": "markdown",
   "metadata": {},
   "source": []
  },
  {
   "cell_type": "markdown",
   "metadata": {},
   "source": [
    "![title](images/ps3_problem4a.png)"
   ]
  },
  {
   "cell_type": "markdown",
   "metadata": {},
   "source": [
    "## Answer, part i:\n",
    "Prove: $\\forall P, Q \\quad K L(P \\| Q) \\geq 0$\n",
    "$$ KL(P \\| Q)=\\sum_{x} P(x) \\log \\frac{P(x)}{Q(x)} $$\n",
    "Jensen's rule $ \\implies $\n",
    "$$ E_Q\\left(\\sum_{x} P(x) \\log \\frac{P(x)}{Q(x)}\\right) \\geq  \\log \\left(E_Q\\left(\\frac{P(x)}{Q(x)}\\right)\\right)$$\n",
    "$$ \\log \\left(E_Q\\left(\\frac{P(x)}{Q(x)}\\right)\\right) = \\log \\left(\\sum_x{P(x)}\\right) $$\n",
    "$$ = \\log \\left(1\\right) = 0$$\n",
    "$$ \\implies E_Q\\left(\\sum_{x} P(x) \\log \\frac{P(x)}{Q(x)}\\right) \\geq  0$$\n",
    "$$ \\implies KL(P \\| Q) \\geq 0 $$\n",
    "\n",
    "## part ii:\n",
    "Prove: $K L(P \\| Q)=0 \\quad \\text { if and only if } P=Q$\n",
    "$\\log\\left(x\\right)$ is strictly convex, so if $ KL(P \\| Q) = 0 $ then if $ \\log \\left(E_Q\\left(\\frac{P(x)}{Q(x)}\\right)\\right) = 0 $\n",
    "$ \\implies \\log \\left(E_Q\\left(\\frac{P(x)}{Q(x)}\\right)\\right) = \\log \\left(E_Q\\left(1\\right)\\right) = 0 $ which can only happen when P = Q, which $\\implies KL(P \\| Q) \\geq 0 $"
   ]
  },
  {
   "cell_type": "markdown",
   "metadata": {},
   "source": [
    "![title](images/ps3_problem4b.png)"
   ]
  },
  {
   "cell_type": "markdown",
   "metadata": {},
   "source": [
    "## Answer:\n",
    "$$KL(P(X, Y) \\| Q(X, Y)) = \\sum_{x,y} P(X,Y) \\log \\frac{P(X,Y)}{Q(X,Y)} $$\n",
    "$$K L(P(X) \\| Q(X))+K L(P(Y \\mid X) \\| Q(Y \\mid X)) = \\sum_{x} P(X) \\log \\frac{P(X)}{Q(X)} + \\sum_{x} P(X)\\sum_{y} P(Y|X) \\log \\frac{P(Y|X)}{Q(Y|X)}$$\n",
    "$$K L(P(X) \\| Q(X))+K L(P(Y \\mid X) \\| Q(Y \\mid X)) = \\sum_{x}  P(X) \\left(\\log \\frac{P(X)}{Q(X)} + \\sum_{y} P(Y|X) \\log \\frac{P(Y|X)}{Q(Y|X)}\\right)$$"
   ]
  },
  {
   "cell_type": "markdown",
   "metadata": {},
   "source": [
    "$$ = \\sum_{x}  P(X) \\left(\\log \\frac{P(X)}{Q(X)} + \\sum_{y} \\frac{P\\left(X,Y\\right)}{P\\left(X\\right)} \\log \\frac{P(Y|X)}{Q(Y|X)}\\right)$$\n",
    "$$ = \\sum_{x}  P(X) \\left(\\log \\frac{P(X)}{Q(X)} +\\frac{P\\left(X\\right)}{P\\left(X\\right)} \\log \\frac{P(X,Y)}{Q(X,Y)}\\frac{Q(X)}{P(X)}\\right)$$\n",
    "$$ = \\sum_{x}  P(X) \\left(\\log \\frac{P(X)}{Q(X)} + \\log \\frac{P(X,Y)}{Q(X,Y)} - \\log \\frac{P(X)}{Q(X)}\\right)$$\n",
    "$$ = \\sum_{x}  P(X) \\left( \\log \\frac{P(X,Y)}{Q(X,Y)} \\right)$$"
   ]
  },
  {
   "cell_type": "markdown",
   "metadata": {},
   "source": [
    "$$ = \\sum_{x}  P(X) \\left(\\log \\frac{P(X)}{Q(X)} + \\sum_{y} P(Y|X) \\log \\frac{P(Y|X)}{Q(Y|X)}\\right)$$\n",
    "$$ = \\sum_{x}  P(X) \\left(\\log \\frac{P(X)}{Q(X)} + \\sum_{y} P(Y|X) \\log \\frac{P(X,Y)}{Q(X,Y)}\\frac{Q(X)}{P(X)}\\right)$$\n",
    "$$ = \\sum_{x}  P(X) \\left(\\log \\frac{P(X)}{Q(X)} + \\sum_{y} P(Y|X) \\log \\frac{P(X,Y)}{Q(X,Y)} - \\sum_{y} P(Y|X) \\log \\frac{P(X)}{Q(X)}\\right)$$\n",
    "$$ = \\sum_{x}  P(X) \\left(\\log \\frac{P(X)}{Q(X)} + \\sum_{y} P(Y|X) \\log \\frac{P(X,Y)}{Q(X,Y)} - \\sum_{y} \\frac{P(X,Y)}{P(X)} \\log \\frac{P(X)}{Q(X)}\\right)$$\n",
    "$$ = \\sum_{x}  P(X) \\left(\\log \\frac{P(X)}{Q(X)} + \\sum_{y} P(Y|X) \\log \\frac{P(X,Y)}{Q(X,Y)} - \\frac{P(X)}{P(X)} \\log \\frac{P(X)}{Q(X)}\\right)$$\n",
    "$$ = \\sum_{x}  P(X) \\left(\\sum_{y} P(Y|X) \\log \\frac{P(X,Y)}{Q(X,Y)}\\right)$$\n",
    "$$ = \\sum_{x}  \\sum_{y} P\\left(X\\right) P\\left(Y|X\\right)\\left( \\log \\frac{P(X,Y)}{Q(X,Y)} \\right)$$\n",
    "$$ = \\sum_{x}  \\sum_{y} P\\left(X,Y\\right)\\left( \\log \\frac{P(X,Y)}{Q(X,Y)} \\right)$$\n",
    "$$ = KL(P(X, Y) \\| Q(X, Y)) $$"
   ]
  },
  {
   "cell_type": "markdown",
   "metadata": {},
   "source": [
    "![title](images/ps3_problem4c.png)"
   ]
  },
  {
   "cell_type": "markdown",
   "metadata": {},
   "source": [
    "![title](images/ps3_problem4cii.png)"
   ]
  },
  {
   "cell_type": "markdown",
   "metadata": {},
   "source": [
    "## Answer:\n",
    "$$ \\arg \\min _{\\theta} K L\\left(\\hat{P} \\| P_{\\theta}\\right)=\\arg \\min _{\\theta} \\sum_{i=1}^{m} \\log \\frac{\\hat{P}\\left(x^{(i)}\\right)}{P_{\\theta}\\left(x^{(i)}\\right)}$$\n",
    "$$\\arg \\min _{\\theta} K L\\left(\\hat{P} \\| P_{\\theta}\\right) =\\arg \\min _{\\theta} \\sum_{i=1}^{m} \\log \\frac{\\frac{1}{m}}{P_{\\theta}\\left(x^{(i)}\\right)}$$\n",
    "$$\\arg \\min _{\\theta} K L\\left(\\hat{P} \\| P_{\\theta}\\right) =\\arg \\min _{\\theta} - \\sum_{i=1}^{m} \\log {P_{\\theta}\\left(x^{(i)}\\right)}$$\n",
    "$$  = \\arg \\max _{\\theta} \\sum_{i=1}^{m} \\log P_{\\theta}\\left(x^{(i)}\\right) $$"
   ]
  },
  {
   "cell_type": "markdown",
   "metadata": {},
   "source": [
    "![title](images/ps3_problem5a.png)"
   ]
  },
  {
   "cell_type": "markdown",
   "metadata": {},
   "source": [
    "![title](images/mandrill-large.png)"
   ]
  },
  {
   "cell_type": "markdown",
   "metadata": {},
   "source": [
    "[More Details Here](ps3_problem5.ipynb#5a)"
   ]
  },
  {
   "cell_type": "markdown",
   "metadata": {},
   "source": [
    "![title](images/ps3_problem5b.png)"
   ]
  },
  {
   "cell_type": "markdown",
   "metadata": {},
   "source": [
    "![title](images/mandrill-small.png)"
   ]
  },
  {
   "cell_type": "markdown",
   "metadata": {},
   "source": [
    "[More Details Here](ps3_problem5.ipynb#5b)"
   ]
  },
  {
   "cell_type": "markdown",
   "metadata": {},
   "source": [
    "![title](images/ps3_problem5c.png)"
   ]
  },
  {
   "cell_type": "markdown",
   "metadata": {},
   "source": [
    "[More Details Here](ps3_problem5.ipynb#5c)"
   ]
  },
  {
   "cell_type": "markdown",
   "metadata": {},
   "source": [
    "![title](images/ps3_problem5d.png)"
   ]
  },
  {
   "cell_type": "markdown",
   "metadata": {},
   "source": [
    "[More Details Here](ps3_problem5.ipynb#5d)"
   ]
  }
 ],
 "metadata": {
  "kernelspec": {
   "display_name": "Python 3",
   "language": "python",
   "name": "python3"
  },
  "language_info": {
   "codemirror_mode": {
    "name": "ipython",
    "version": 3
   },
   "file_extension": ".py",
   "mimetype": "text/x-python",
   "name": "python",
   "nbconvert_exporter": "python",
   "pygments_lexer": "ipython3",
   "version": "3.7.6"
  }
 },
 "nbformat": 4,
 "nbformat_minor": 4
}
