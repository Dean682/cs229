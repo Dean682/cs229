{
 "cells": [
  {
   "cell_type": "markdown",
   "metadata": {},
   "source": [
    "# CS229 Problem Set #4"
   ]
  },
  {
   "cell_type": "markdown",
   "metadata": {},
   "source": [
    "![title](images/ps4_problem1i.png)"
   ]
  },
  {
   "cell_type": "markdown",
   "metadata": {},
   "source": [
    "![title](images/ps4_problem1ii.png)"
   ]
  },
  {
   "cell_type": "markdown",
   "metadata": {},
   "source": [
    "![title](images/ps4_problem1a.png)"
   ]
  },
  {
   "cell_type": "markdown",
   "metadata": {},
   "source": [
    "[Answers Here](ps4_problem1.ipynb#1a)"
   ]
  },
  {
   "cell_type": "markdown",
   "metadata": {},
   "source": [
    "![title](images/ps4_problem1b.png)"
   ]
  },
  {
   "cell_type": "markdown",
   "metadata": {},
   "source": [
    "[Answers Here](ps4_problem1.ipynb#1b)"
   ]
  },
  {
   "cell_type": "markdown",
   "metadata": {},
   "source": [
    "![title](images/ps4_problem1ci.png)"
   ]
  },
  {
   "cell_type": "markdown",
   "metadata": {},
   "source": [
    "![title](images/ps4_problem1cii.png)"
   ]
  },
  {
   "cell_type": "markdown",
   "metadata": {},
   "source": [
    "[Answers Here, for Unregularizes Model](ps4_problem1.ipynb#1a)"
   ]
  },
  {
   "cell_type": "markdown",
   "metadata": {},
   "source": [
    "[Answers Here, for Regularized Model](ps4_problem1.ipynb#1b)"
   ]
  },
  {
   "cell_type": "markdown",
   "metadata": {},
   "source": [
    "![title](images/ps4_problem2i.png)"
   ]
  },
  {
   "cell_type": "markdown",
   "metadata": {},
   "source": [
    "![title](images/ps4_problem2ii.png)"
   ]
  },
  {
   "cell_type": "markdown",
   "metadata": {},
   "source": [
    "## Answer:\n",
    "$$ \\ell(\\theta)=\\sum_{i=1}^{m} \\log p\\left(x^{(i)} ; \\theta\\right) $$\n",
    "$$ \\ell_{EM}(\\theta)=\\sum_{i=1}^{m}\\sum_{z}q\\left(x^{(i)} ; \\theta\\right)\\log \\left(\\frac{p\\left(x^{(i)} ; \\theta\\right)}{q\\left(x^{(i)} ; \\theta\\right)}\\right)$$\n",
    "$$ \\theta^{*} := \\arg \\max_{\\theta} \\ell(\\theta) $$\n",
    "$$ \\theta_{EM}^{*} := \\arg \\max_{\\theta} \\ell_{EM}(\\theta) $$"
   ]
  },
  {
   "cell_type": "markdown",
   "metadata": {},
   "source": [
    "### Proof by contradiction:\n",
    "We assert: $\\theta^{*} \\neq \\theta_{EM}^{*} $\n",
    "$$ \\implies \\nabla_{\\theta}\\ell(\\theta)_{\\theta=\\theta^{*}}\\neq  \\nabla_{\\theta}\\ell_{EM}(\\theta)_{\\theta=\\theta^{*}}$$\n",
    "$$ \\implies \\nabla_{\\theta}\\ell(\\theta)_{\\theta=\\theta_{EM}^{*}}\\neq  \\nabla_{\\theta}\\ell_{EM}(\\theta)_{\\theta=\\theta_{EM}^{*}}$$\n",
    "$$ \\nabla_{\\theta}\\ell_{EM}(\\theta) = \\sum_{i}\\sum_{z}\\left(\\frac{\\partial{Q}}{\\partial{\\theta}}\\log\\left(\\frac{P}{Q}\\right) - Q \\frac{\\partial{\\log\\left(P\\right)}}{\\partial{\\theta}} + Q \\frac{\\partial{\\log\\left(Q\\right)}}{\\partial{\\theta}}\\right)$$"
   ]
  },
  {
   "cell_type": "markdown",
   "metadata": {},
   "source": [
    "$$ \\nabla_{\\theta}\\ell_{EM}(\\theta) = \\sum_{i}\\sum_{z}\\left(\\frac{\\partial{Q}}{\\partial{\\theta}}\\log\\left(\\frac{P}{Q}\\right) - \\frac{Q}{P} \\frac{\\partial{P}}{\\partial{\\theta}} +  \\frac{\\partial{Q}}{\\partial{\\theta}}\\right)$$\n",
    "After E-step, Q is constant $\\therefore \\frac{\\partial{Q}}{\\theta} = 0$\n",
    "$$ \\implies \\nabla_{\\theta}\\ell_{EM}(\\theta) = \\sum_{i}\\sum_{z}\\left( 0 - \\frac{Q}{P} \\frac{\\partial{P}}{\\partial{\\theta}} +  0\\right)$$\n",
    "$$ \\implies \\nabla_{\\theta}\\ell_{EM}(\\theta) = \\sum_{i}\\left(\\frac{1}{P} \\frac{\\partial{P}}{\\partial{\\theta}}\\right)$$"
   ]
  },
  {
   "cell_type": "markdown",
   "metadata": {},
   "source": [
    "$$ \\begin{aligned}\n",
    "\\nabla_{\\theta}\\ell_{EM} &=\\nabla_{\\theta}\\sum_{i=1}^{m} \\log p\\left(x^{(i)} ; \\theta\\right) \\\\\n",
    "\\nabla_{\\theta}\\ell_{EM} &=\\sum_{i=1}^{m}\\frac{1}{P}\\nabla_{\\theta}P \\\\\n",
    "&= \\nabla_{\\theta}\\ell \\\\\n",
    "\\end{aligned}$$\n",
    "### Contradiction!  Gradients of raw log-likelihood, as well as EM log-likelihood functions are identical, after E-step. Therefore their minima are identical as well."
   ]
  },
  {
   "cell_type": "markdown",
   "metadata": {},
   "source": [
    "![title](images/ps4_problem3.png)"
   ]
  },
  {
   "cell_type": "markdown",
   "metadata": {},
   "source": [
    "## Answer\n",
    "$$J := \\sum_{i=1}^{m} \\left\\|x^{(i)}-f_u\\left(x^{(i)}\\right)\\right\\|_{2}^2$$\n",
    "$$ f_u\\left(x^{(i)}\\right) = \\mathbf{x}_i^{\\top}\\mathbf{u} \\mathbf{u} $$\n",
    "$$ J =  \\sum_{i=1}^{m}\\sum_{j=1}^{d} \\left(x_{j}^{(i)}-f_u\\left(x^{(i)}\\right)_{j}\\right)^2 $$\n",
    "$$  =  \\sum_{i=1}^{m}\\sum_{j=1}^{d} \\left(x_{j}^{(i)}-\\left(\\mathbf{x}_i^{\\top}\\mathbf{u}\\right)u_j\\right)^2 $$\n",
    "$$  =  \\sum_{i,j}\\left(\\left(x_{j}^{(i)}\\right)^2 - 2 u_j\\left(\\mathbf{x}_i^{\\top}\\mathbf{u}\\right)x_{j}^{(i)} + u_j\\left(\\mathbf{x}_i^{\\top}\\mathbf{u}\\right)^{\\top}\\left(\\mathbf{x}_i^{\\top}\\mathbf{u}\\right)u_j\\right)$$\n",
    "$$  =  \\sum_{i,j}\\left(\\left(x_{j}^{(i)}\\right)^2 - 2 u_j\\left(\\mathbf{x}_i^{\\top}\\mathbf{u}\\right)x_{j}^{(i)} + u_j^2\\left(\\mathbf{x}_i^{\\top}\\mathbf{u}\\right)^{2}\\right)$$"
   ]
  },
  {
   "cell_type": "markdown",
   "metadata": {},
   "source": [
    "$$ = \\sum_{i=1}^{m}\\left(\\left|\\left|x_{i}\\right|\\right|_{2}^2 - 2\\left(\\mathbf{x}_{i}^{\\top}\\mathbf{u}\\right)^2 + \\left(\\mathbf{x}_{i}^{\\top}\\mathbf{u}\\right)^2\\right) $$\n",
    "$$ J = \\sum_{i=1}^{m}\\left(\\left|\\left|x_{i}\\right|\\right|_{2}^2 - \\left(\\mathbf{x}_{i}^{\\top}\\mathbf{u}\\right)^2 \\right) $$"
   ]
  },
  {
   "cell_type": "markdown",
   "metadata": {},
   "source": [
    "If we want to minimize J (i.e. the MSE), then $\\mathbf{x}_i $ vectors are given, so we just need to minimize $-\\left(\\mathbf{x}_{i}^{\\top}\\mathbf{u}\\right)^2$, which is equivalent to maximizing $\\left(\\mathbf{x}_{i}^{\\top}\\mathbf{u}\\right)^2$\n",
    "\n",
    "Maximizing $\\left(\\mathbf{x}_{i}^{\\top}\\mathbf{u}\\right)^2$ is equivalent to maximizing the variance of $\\mathbf{x}_i$ projected onto u."
   ]
  },
  {
   "cell_type": "markdown",
   "metadata": {},
   "source": [
    "![title](images/ps4_problem4.png)"
   ]
  },
  {
   "cell_type": "markdown",
   "metadata": {},
   "source": [
    "[Answers Here](ps4_problem4.ipynb)"
   ]
  },
  {
   "cell_type": "markdown",
   "metadata": {},
   "source": [
    "![title](images/ps4_problem5.png)"
   ]
  },
  {
   "cell_type": "markdown",
   "metadata": {},
   "source": [
    "## Answer, part a):\n",
    "$$ \\text{define}\\;\\tilde{s} \\ni V_{1}(\\tilde{s})-V_{2}(\\tilde{s})=\\left|\\left| V_{1}-V_{2} \\right|\\right|_{\\infty}$$\n",
    "$$ \\text{define}\\;\\tilde{s}_{-1} \\ni \\quad\\left|\\left|V_{1}^{\\prime}(\\tilde{s}_{-1})-V_{2}^{\\prime}(\\tilde{s}_{-1})\\right|\\right|=\\left|\\left|V_{1}(\\tilde{s})-V_{2}(\\tilde{s})\\right|\\right|$$\n",
    "$$\\begin{array}{l}\n",
    "B\\left(V_1,(s)\\right)=V_{1}^{\\prime}(s) \\\\\n",
    "B\\left(V_{2}(s)\\right)=V_{2}^{\\prime}(s)\\\\\n",
    "\\end{array}\\\\\n",
    "$$"
   ]
  },
  {
   "cell_type": "markdown",
   "metadata": {},
   "source": [
    "Because $P_{\\tilde{s} a}$ and $\\gamma$ are invariant with respect to $\\tilde{s}$:\n",
    "$$\n",
    "V_{1}^{\\prime}\\left(\\tilde{s}\\right)-V_{2}^{\\prime}(\\tilde{s})=[R\\left(\\tilde{s}\\right)-R\\left(\\tilde{s}\\right)]\n",
    "+\\gamma \\max _{a \\in A} \\sum_{S^{\\prime}} P_{\\tilde{s} a}\\left(S^{\\prime}\\right)[V_{1}\\left(S^{\\prime}\\right)-V_{2}(S^{\\prime})]\\\\\n",
    "=\\gamma \\max _{a \\in A} \\sum_{S^{\\prime}} P_{\\tilde{s} a}\\left(S^{\\prime}\\right)[V_{1}\\left(S^{\\prime}\\right)-V_{2}(S^{\\prime})]\\\\\n",
    "$$"
   ]
  },
  {
   "cell_type": "markdown",
   "metadata": {},
   "source": [
    "Because: \n",
    "$$\\sum_{S^{\\prime} a}P_{\\tilde{s}a}\\left(S^{\\prime}\\right) \\leq 1$$\n",
    "And\n",
    "$$P_{\\tilde{s}a}\\left(S^{\\prime}\\right) [V_{1}\\left(S^{\\prime}\\right)-V_{2}(S^{\\prime})] \\leq [V_{1}\\left(\\tilde{s}\\right)-V_{2}(\\tilde{s})]$$ \n",
    "Then:\n",
    "$$\n",
    "\\gamma \\max _{a \\in A} \\sum_{S^{\\prime}} P_{\\tilde{s} a}\\left(S^{\\prime}\\right)[V_{1}\\left(S^{\\prime}\\right)-V_{2}(S^{\\prime})] \\leq \\gamma \\left(V_{1}(\\tilde{s})-V_{2}(\\tilde{s})\\right) \\; \\forall S^{\\prime} \\; \\\\\n",
    "$$\n",
    "$$\\implies \\left\\|B\\left(V_{1}\\right)-B\\left(V_{2}\\right)\\right\\|_{\\infty} \\leq \\gamma\\left\\|V_{1}-V_{2}\\right\\|_{\\infty}$$"
   ]
  },
  {
   "cell_type": "markdown",
   "metadata": {},
   "source": [
    "## Answer, part b)\n",
    "#### Proof by induction:\n",
    "$$\n",
    "\\begin{array}{l}\n",
    "V_{1}:=V^{*} \\\\\n",
    "V_{2}:=V\\\\\n",
    "\\end{array}\\\\\n",
    "$$\n",
    "$ B\\left(V_{1}\\right)=V_{1} $ (by definition)\n",
    "$$\n",
    "\\left\\|B\\left(V_{1}\\right)-B\\left(V_{2}\\right)\\right\\|_{\\infty} \\leq \\gamma\\left\\|V_{1}-V_{2}\\right\\|_{\\infty}\\\\\n",
    "\\left\\| V_{1}-B\\left(V_{2}\\right) \\right\\|_{\\infty} \\leq \\gamma \\left\\| V_{1}-V_{2} \\right\\|_{\\infty}\n",
    "$$"
   ]
  },
  {
   "cell_type": "markdown",
   "metadata": {},
   "source": [
    "$$\\left\\| V_{1}-B\\left( B\\left(v_{2}\\right)\\right)\\right\\|_{\\infty} \\leq \\gamma \\left\\| V_{1} -B\\left(V_{2} \\right)\\right\\|_{\\infty}\\\\\n",
    "\\leq \\gamma^2 \\left\\| V_{1} -V_{2}\\right\\|_{\\infty}\n",
    "$$"
   ]
  },
  {
   "cell_type": "markdown",
   "metadata": {},
   "source": [
    "Define $ B^{k}\\left(\\right) $ as Bellman operator having been applied $k$ times:\n",
    "$$\\left\\| V_{1}-B^{k}\\left(V_{2}\\right)\\right\\| \\leq \\gamma \\left\\| V_{1}-B^{k-1}\\left(V_{2}\\right)\\right\\|\\\\\n",
    "\\therefore \\left\\| V_{1}-B^{k}\\left(V_{2}\\right)\\right\\| \\leq \\gamma^{k} \\left\\| V_{1}-V_{2}\\right\\|$$\n"
   ]
  },
  {
   "cell_type": "markdown",
   "metadata": {},
   "source": [
    "![title](images/ps4_problem6i.png)"
   ]
  },
  {
   "cell_type": "markdown",
   "metadata": {},
   "source": [
    "![title](images/ps4_problem6ii.png)"
   ]
  },
  {
   "cell_type": "markdown",
   "metadata": {},
   "source": [
    "![title](images/ps4_problem6iii.png)"
   ]
  },
  {
   "cell_type": "markdown",
   "metadata": {},
   "source": [
    "![title](images/ps4_problem6ai.png)"
   ]
  },
  {
   "cell_type": "markdown",
   "metadata": {},
   "source": [
    "![title](images/ps4_problem6aii.png)"
   ]
  },
  {
   "cell_type": "markdown",
   "metadata": {},
   "source": [
    "[Code Here](ps4_problem6.ipynb#6a)"
   ]
  },
  {
   "cell_type": "markdown",
   "metadata": {},
   "source": [
    "### About 100 trials $\\left(\\sim e^{4.6}\\right)$ were required, for algorithm to converge"
   ]
  },
  {
   "cell_type": "markdown",
   "metadata": {},
   "source": [
    "![title](images/ps4_problem6b.png)"
   ]
  },
  {
   "cell_type": "markdown",
   "metadata": {},
   "source": [
    "[Answers Here](ps4_problem6.ipynb#6b)"
   ]
  }
 ],
 "metadata": {
  "kernelspec": {
   "display_name": "Python 3",
   "language": "python",
   "name": "python3"
  },
  "language_info": {
   "codemirror_mode": {
    "name": "ipython",
    "version": 3
   },
   "file_extension": ".py",
   "mimetype": "text/x-python",
   "name": "python",
   "nbconvert_exporter": "python",
   "pygments_lexer": "ipython3",
   "version": "3.7.6"
  }
 },
 "nbformat": 4,
 "nbformat_minor": 4
}
