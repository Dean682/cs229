{
 "cells": [
  {
   "cell_type": "code",
   "execution_count": 1,
   "metadata": {},
   "outputs": [],
   "source": [
    "%matplotlib inline\n",
    "import math\n",
    "import matplotlib\n",
    "import matplotlib.pyplot as plt\n",
    "import numpy as np\n",
    "import pandas as pd\n",
    "import pickle\n",
    "import sounddevice as sd\n",
    "#__import__(\"python-sounddevice\")"
   ]
  },
  {
   "cell_type": "code",
   "execution_count": 2,
   "metadata": {},
   "outputs": [],
   "source": [
    "### Independent Components Analysis\n",
    "###\n",
    "### This program requires a working installation of:\n",
    "###\n",
    "### On Mac:\n",
    "###     1. portaudio: On Mac: brew install portaudio\n",
    "###     2. sounddevice: pip install sounddevice\n",
    "###\n",
    "### On windows:\n",
    "###      pip install pyaudio sounddevice\n",
    "###"
   ]
  },
  {
   "cell_type": "code",
   "execution_count": 3,
   "metadata": {},
   "outputs": [],
   "source": [
    "Fs = 11025\n",
    "\n",
    "def normalize(dat):\n",
    "    return 0.99 * dat / np.max(np.abs(dat))"
   ]
  },
  {
   "cell_type": "code",
   "execution_count": 4,
   "metadata": {},
   "outputs": [],
   "source": [
    "def load_data():\n",
    "    mix = np.loadtxt('data/mix.dat')\n",
    "    return mix"
   ]
  },
  {
   "cell_type": "code",
   "execution_count": 5,
   "metadata": {},
   "outputs": [],
   "source": [
    "def play(vec):\n",
    "    sd.play(vec, Fs, blocking=True)"
   ]
  },
  {
   "cell_type": "code",
   "execution_count": 6,
   "metadata": {},
   "outputs": [],
   "source": [
    "def sigmoid(x):\n",
    "    \"\"\"\n",
    "    Compute the sigmoid function for the input here.\n",
    "    \"\"\"\n",
    "    ### YOUR CODE HERE\n",
    "    pos_mask = (x >= 0)\n",
    "    neg_mask = ~pos_mask\n",
    "    s = np.empty_like(x)\n",
    "    s[pos_mask] = 1 / (1 + np.exp(-x[pos_mask]))\n",
    "    \n",
    "    e_x_neg = np.exp(x[neg_mask])\n",
    "    s[neg_mask] = e_x_neg / (1 + e_x_neg)\n",
    "\n",
    "    ### END YOUR CODE\n",
    "    return s"
   ]
  },
  {
   "cell_type": "code",
   "execution_count": 7,
   "metadata": {},
   "outputs": [],
   "source": [
    "def unmixer(X):\n",
    "    M, N = X.shape\n",
    "    W = np.eye(N)\n",
    "    anneal = [0.1, 0.1, 0.1, 0.05, 0.05, 0.05, 0.02, 0.02, 0.01, 0.01,\n",
    "              0.005, 0.005, 0.002, 0.002, 0.001, 0.001]\n",
    "    print('Separating tracks ...')\n",
    "    ######## Your code here ##########\n",
    "    p = np.random.permutation(X.shape[0])\n",
    "    X_shuffled = X[p, :]\n",
    "    #X_shuffled = X\n",
    "    len_anneal = len(anneal)\n",
    "    for anneal_rate in anneal:\n",
    "        for i, x in enumerate(X_shuffled):\n",
    "            x = x.reshape((x.shape[0], 1))\n",
    "            d_W = np.dot( ( 1 - 2 * sigmoid(np.dot(W, x)) ), x.T ) + np.linalg.inv(W.T)\n",
    "            W += anneal_rate * d_W\n",
    "    ###################################\n",
    "    return W"
   ]
  },
  {
   "cell_type": "code",
   "execution_count": 8,
   "metadata": {},
   "outputs": [],
   "source": [
    "def unmix(X, W):\n",
    "    S = np.zeros(X.shape)\n",
    "\n",
    "    ######### Your code here ##########\n",
    "    S = np.dot(W, X.T)\n",
    "    ##################################\n",
    "    return S"
   ]
  },
  {
   "cell_type": "code",
   "execution_count": 9,
   "metadata": {},
   "outputs": [],
   "source": [
    "def main():\n",
    "    X = normalize(load_data())\n",
    "    for i in range(X.shape[1]):\n",
    "        print('Playing mixed track %d' % i)\n",
    "        play(X[:, i])\n",
    "    \n",
    "    W = unmixer(X)\n",
    "    S = normalize(unmix(X, W))\n",
    "\n",
    "    S_T = S.T\n",
    "    for i in range(S_T.shape[1]):\n",
    "        print('Playing separated track %d' % i)\n",
    "        play(S_T[:, i])"
   ]
  },
  {
   "cell_type": "code",
   "execution_count": 10,
   "metadata": {},
   "outputs": [
    {
     "name": "stdout",
     "output_type": "stream",
     "text": [
      "Playing mixed track 0\n",
      "Playing mixed track 1\n",
      "Playing mixed track 2\n",
      "Playing mixed track 3\n",
      "Playing mixed track 4\n",
      "Separating tracks ...\n",
      "Playing separated track 0\n",
      "Playing separated track 1\n",
      "Playing separated track 2\n",
      "Playing separated track 3\n",
      "Playing separated track 4\n"
     ]
    }
   ],
   "source": [
    "if __name__ == '__main__':\n",
    "    main()\n"
   ]
  },
  {
   "cell_type": "code",
   "execution_count": null,
   "metadata": {},
   "outputs": [],
   "source": []
  }
 ],
 "metadata": {
  "kernelspec": {
   "display_name": "Python 3",
   "language": "python",
   "name": "python3"
  },
  "language_info": {
   "codemirror_mode": {
    "name": "ipython",
    "version": 3
   },
   "file_extension": ".py",
   "mimetype": "text/x-python",
   "name": "python",
   "nbconvert_exporter": "python",
   "pygments_lexer": "ipython3",
   "version": "3.7.3"
  }
 },
 "nbformat": 4,
 "nbformat_minor": 4
}
