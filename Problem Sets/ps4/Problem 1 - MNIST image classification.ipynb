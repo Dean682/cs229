{
 "cells": [
  {
   "cell_type": "code",
   "execution_count": 1,
   "metadata": {},
   "outputs": [],
   "source": [
    "%matplotlib inline\n",
    "import math\n",
    "import matplotlib\n",
    "import matplotlib.pyplot as plt\n",
    "import numpy as np\n",
    "import pandas as pd\n",
    "import pickle"
   ]
  },
  {
   "cell_type": "code",
   "execution_count": 2,
   "metadata": {},
   "outputs": [],
   "source": [
    "DATA_DIR = './data/mnist/'"
   ]
  },
  {
   "cell_type": "code",
   "execution_count": 3,
   "metadata": {},
   "outputs": [],
   "source": [
    "def save_obj(obj, name ):\n",
    "    with open(DATA_DIR + name + '.pkl', 'wb') as f:\n",
    "        pickle.dump(obj, f, pickle.HIGHEST_PROTOCOL)\n",
    "\n",
    "def load_obj(name ):\n",
    "    with open(DATA_DIR + name + '.pkl', 'rb') as f:\n",
    "        return pickle.load(f)"
   ]
  },
  {
   "cell_type": "code",
   "execution_count": 4,
   "metadata": {},
   "outputs": [],
   "source": [
    "def readData(images_file, labels_file):\n",
    "    print(f'reading data file: {images_file}, {labels_file}')\n",
    "    x = np.loadtxt(DATA_DIR + images_file, delimiter=',')\n",
    "    y = np.loadtxt(DATA_DIR + labels_file, delimiter=',')\n",
    "    return x, y"
   ]
  },
  {
   "cell_type": "code",
   "execution_count": 5,
   "metadata": {},
   "outputs": [],
   "source": [
    "def softmax(x):\n",
    "    \"\"\"\n",
    "    Compute softmax function for input. \n",
    "    Use tricks from previous assignment to avoid overflow\n",
    "    \"\"\"\n",
    "    ### YOUR CODE HERE\n",
    "    if len(x.shape) > 1:\n",
    "        # Matrix\n",
    "        tmp = np.max(x, axis=1)\n",
    "        x -= tmp.reshape((x.shape[0], 1))\n",
    "        x = np.exp(x)\n",
    "        tmp = np.sum(x, axis=1)\n",
    "        x /= tmp.reshape((x.shape[0], 1))\n",
    "    else:\n",
    "        # Vector\n",
    "        tmp = np.max(x)\n",
    "        x -= tmp\n",
    "        x = np.exp(x)\n",
    "        tmp = np.sum(x)\n",
    "        x /= tmp\n",
    "\n",
    "    ### END YOUR CODE\n",
    "    return x"
   ]
  },
  {
   "cell_type": "code",
   "execution_count": 2,
   "metadata": {},
   "outputs": [],
   "source": [
    "def sigmoid(x):\n",
    "    \"\"\"\n",
    "    Compute the sigmoid function for the input here.\n",
    "    \"\"\"\n",
    "    ### YOUR CODE HERE\n",
    "    pos_mask = (x >= 0)\n",
    "    neg_mask = ~pos_mask\n",
    "    s = np.empty_like(x)\n",
    "    s[pos_mask] = 1 / (1 + np.exp(-x[pos_mask]))\n",
    "    \n",
    "    e_x_neg = np.exp(x[neg_mask])\n",
    "    s[neg_mask] = e_x_neg / (1 + e_x_neg)\n",
    "\n",
    "    ### END YOUR CODE\n",
    "    return s"
   ]
  },
  {
   "cell_type": "code",
   "execution_count": 7,
   "metadata": {},
   "outputs": [],
   "source": [
    "def forward_prop(data, labels, params):\n",
    "    \"\"\"\n",
    "    return hidder layer, output(softmax) layer and loss\n",
    "    \n",
    "    data is of shape: B x D\n",
    "    labels is of shape: B x K\n",
    "    \"\"\"\n",
    "    W1 = params['W1'] # D x H\n",
    "    b1 = params['b1'] # B x H\n",
    "    W2 = params['W2'] # H x K\n",
    "    b2 = params['b2'] # B x K\n",
    "\n",
    "    ### YOUR CODE HERE\n",
    "    z1 = data.dot(W1) + b1\n",
    "    h = sigmoid(z1)\n",
    "    z2 = h.dot(W2) + b2\n",
    "    y = softmax(z2)\n",
    "\n",
    "    loss = - np.multiply(labels, np.log(y + 1e-16)).sum()\n",
    "    loss /= data.shape[0]\n",
    "    ### END YOUR CODE\n",
    "    return h, y, loss"
   ]
  },
  {
   "cell_type": "code",
   "execution_count": 30,
   "metadata": {},
   "outputs": [],
   "source": [
    "def backward_prop(data, labels, params, use_regularization=False):\n",
    "    \"\"\"\n",
    "    return gradient of parameters\n",
    "    \"\"\"\n",
    "    W1 = params['W1']\n",
    "    b1 = params['b1']\n",
    "    W2 = params['W2']\n",
    "    b2 = params['b2']\n",
    "\n",
    "    ### YOUR CODE HERE\n",
    "    reg_lambda = 0.0001\n",
    "    batch_size = labels.shape[0]\n",
    "    \n",
    "    a, y_hat, _ = forward_prop(data, labels, params)\n",
    "    num_hidden_units = a.shape[1]\n",
    "    \n",
    "    d_J_softmax = y_hat - labels # (N * 10)\n",
    "    gradW2 = a.T @ d_J_softmax # (300 x N) * (N x 10) = (300 x 10)\n",
    "    gradb2 = np.sum(d_J_softmax, axis=0, keepdims=True)\n",
    "    \n",
    "    d_a = np.multiply(a,  (1 - a))\n",
    "    d_J_W2 = d_J_softmax @ (W2.T)\n",
    "    d_J_W2_d_a = np.multiply(d_J_W2, d_a)\n",
    "\n",
    "    gradW1 = np.dot(data.T, d_J_W2_d_a)\n",
    "    gradb1 = np.sum(d_J_W2_d_a, axis=0, keepdims=True)\n",
    "    # a is (300 x N), d_cost_softmax is 10 X 10\n",
    "    \n",
    "    gradW1 /= batch_size\n",
    "    gradW2 /= batch_size\n",
    "    gradb1 /= batch_size\n",
    "    gradb2 /= batch_size\n",
    "    \n",
    "    if use_regularization:\n",
    "        gradW2 += reg_lambda * 2 * W2\n",
    "        gradW1 += reg_lambda * 2 * W1\n",
    "    \n",
    "\n",
    "    ### END YOUR CODE\n",
    "\n",
    "    grad = {}\n",
    "    grad['W1'] = gradW1\n",
    "    grad['W2'] = gradW2\n",
    "    grad['b1'] = gradb1\n",
    "    grad['b2'] = gradb2\n",
    "\n",
    "    return grad"
   ]
  },
  {
   "cell_type": "code",
   "execution_count": 24,
   "metadata": {},
   "outputs": [],
   "source": [
    "def nn_train(trainData, trainLabels, devData, devLabels, use_regularization=False):\n",
    "    (m, n) = trainData.shape\n",
    "    num_hidden = 300\n",
    "    learning_rate = 5\n",
    "    params = {}\n",
    "\n",
    "    ### YOUR CODE HERE\n",
    "    num_pixels = n\n",
    "    K = trainLabels.shape[1]\n",
    "    params['W2'] = np.random.standard_normal((num_hidden, K))\n",
    "    params['b2'] = np.zeros((1, K), dtype=float)\n",
    "    \n",
    "    params['W1'] = np.random.standard_normal((num_pixels, num_hidden))\n",
    "    params['b1'] = np.zeros((1, num_hidden), dtype=float)\n",
    "    \n",
    "    batch_size = 1000\n",
    "    num_iterations = int(trainData.shape[0] / batch_size)\n",
    "    epochs = 30\n",
    "    training_costs = [0.0]*epochs\n",
    "    dev_costs = [0.0]*epochs\n",
    "    \n",
    "    training_accuracies = [0.0]*epochs\n",
    "    dev_accuracies = [0.0]*epochs\n",
    "    for i in range(epochs):\n",
    "        for j in range(num_iterations):\n",
    "            begin_index = j * batch_size\n",
    "            end_index = (j + 1) * batch_size\n",
    "            trainDataSubset = trainData[begin_index:end_index]\n",
    "            trainLabelSubSet = trainLabels[begin_index:end_index]\n",
    "            grad_params = backward_prop(trainDataSubset, trainLabelSubSet, params, use_regularization)\n",
    "            \n",
    "            # Update parameters\n",
    "\n",
    "            params['W2'] -= learning_rate * grad_params['W2']\n",
    "            params['b2'] -= learning_rate * grad_params['b2']\n",
    "            params['W1'] -= learning_rate * grad_params['W1']\n",
    "            params['b1'] -= learning_rate * grad_params['b1']\n",
    "            \n",
    "        _, y_hat_train, cost_train = forward_prop(trainData, trainLabels, params)\n",
    "        training_accuracies[i] = compute_accuracy(y_hat_train, trainLabels)\n",
    "        training_costs[i] = cost_train\n",
    "        \n",
    "        _, y_hat_dev, cost_dev = forward_prop(devData, devLabels, params)\n",
    "        dev_accuracies[i] = compute_accuracy(y_hat_dev, devLabels)\n",
    "        dev_costs[i] = cost_dev\n",
    "        \n",
    "    xs = np.arange(epochs)\n",
    "\n",
    "    fig, axes = plt.subplots(1, 2, sharex=True, sharey=False, figsize=(12, 4))\n",
    "    ax0, ax1 = axes.ravel()\n",
    "\n",
    "    ax0.plot(xs, training_costs, label='train loss')\n",
    "    ax0.plot(xs, dev_costs, label='dev loss')\n",
    "    ax0.legend()\n",
    "    ax0.set_xlabel('# epoch')\n",
    "    ax0.set_ylabel('CE loss')\n",
    "\n",
    "    ax1.plot(xs, training_accuracies, label='train acc')\n",
    "    ax1.plot(xs, dev_accuracies, label='dev acc')\n",
    "    ax1.legend()\n",
    "    ax1.set_xlabel('# epoch')\n",
    "    ax1.set_ylabel('Accuracy')\n",
    "    ### END YOUR CODE\n",
    "    return params"
   ]
  },
  {
   "cell_type": "code",
   "execution_count": 10,
   "metadata": {},
   "outputs": [],
   "source": [
    "def nn_test(data, labels, params):\n",
    "    h, output, cost = forward_prop(data, labels, params)\n",
    "    accuracy = compute_accuracy(output, labels)\n",
    "    return accuracy"
   ]
  },
  {
   "cell_type": "code",
   "execution_count": 11,
   "metadata": {},
   "outputs": [],
   "source": [
    "def compute_accuracy(output, labels):\n",
    "    accuracy = (np.argmax(output,axis=1) == np.argmax(labels,axis=1)).sum() * 1. / labels.shape[0]\n",
    "    return accuracy"
   ]
  },
  {
   "cell_type": "code",
   "execution_count": 12,
   "metadata": {},
   "outputs": [],
   "source": [
    "def one_hot_labels(labels):\n",
    "    one_hot_labels = np.zeros((labels.size, 10))\n",
    "    one_hot_labels[np.arange(labels.size),labels.astype(int)] = 1\n",
    "    return one_hot_labels"
   ]
  },
  {
   "cell_type": "code",
   "execution_count": 13,
   "metadata": {},
   "outputs": [
    {
     "name": "stdout",
     "output_type": "stream",
     "text": [
      "reading data file: images_train.csv, labels_train.csv\n"
     ]
    }
   ],
   "source": [
    "trainData, trainLabels = readData('images_train.csv', 'labels_train.csv')\n",
    "trainLabels = one_hot_labels(trainLabels)    "
   ]
  },
  {
   "cell_type": "code",
   "execution_count": 14,
   "metadata": {},
   "outputs": [
    {
     "name": "stdout",
     "output_type": "stream",
     "text": [
      "reading data file: images_test.csv, labels_test.csv\n"
     ]
    }
   ],
   "source": [
    "testData, testLabels = readData('images_test.csv', 'labels_test.csv')\n",
    "testLabels = one_hot_labels(testLabels)    "
   ]
  },
  {
   "cell_type": "code",
   "execution_count": 17,
   "metadata": {},
   "outputs": [],
   "source": [
    "def main(trainData, trainLabels, testData, testLabels, use_regularization=False):\n",
    "    np.random.seed(1000)\n",
    "    #trainData, trainLabels = readData('images_train.csv', 'labels_train.csv')\n",
    "    #trainLabels = one_hot_labels(trainLabels)\n",
    "    p = np.random.permutation(60000)\n",
    "    trainData = trainData[p,:]\n",
    "    trainLabels = trainLabels[p,:]\n",
    "\n",
    "    devData = trainData[0:10000,:]\n",
    "    devLabels = trainLabels[0:10000,:]\n",
    "    trainData = trainData[10000:,:]\n",
    "    trainLabels = trainLabels[10000:,:]\n",
    "\n",
    "    mean = np.mean(trainData)\n",
    "    std = np.std(trainData)\n",
    "    trainData = (trainData - mean) / std\n",
    "    devData = (devData - mean) / std\n",
    "\n",
    "    #testData, testLabels = readData('images_test.csv', 'labels_test.csv')\n",
    "    #testLabels = one_hot_labels(testLabels)\n",
    "    testData = (testData - mean) / std\n",
    "    \n",
    "    params = nn_train(trainData, trainLabels, devData, devLabels, use_regularization)\n",
    "\n",
    "    file_name = \"train_params_without_regularization.pkl\"\n",
    "    if use_regularization:\n",
    "        file_name = \"train_params_with_regularization.pkl\"\n",
    "    save_obj(params, file_name)\n",
    "\n",
    "    readyForTesting = True\n",
    "    if readyForTesting:\n",
    "        accuracy = nn_test(testData, testLabels, params)\n",
    "        print('Test accuracy: %f' % accuracy)"
   ]
  },
  {
   "cell_type": "code",
   "execution_count": 28,
   "metadata": {
    "scrolled": false
   },
   "outputs": [
    {
     "name": "stdout",
     "output_type": "stream",
     "text": [
      "Test accuracy: 0.932100\n"
     ]
    },
    {
     "data": {
      "image/png": "[encoded data removed]",
      "text/plain": [
       "<Figure size 864x288 with 2 Axes>"
      ]
     },
     "metadata": {
      "needs_background": "light"
     },
     "output_type": "display_data"
    }
   ],
   "source": [
    "if __name__ == '__main__':\n",
    "    main(trainData, trainLabels, testData, testLabels, use_regularization=False)"
   ]
  },
  {
   "cell_type": "code",
   "execution_count": 31,
   "metadata": {},
   "outputs": [
    {
     "name": "stdout",
     "output_type": "stream",
     "text": [
      "Test accuracy: 0.967700\n"
     ]
    },
    {
     "data": {
      "image/png": "[encoded data removed]",
      "text/plain": [
       "<Figure size 864x288 with 2 Axes>"
      ]
     },
     "metadata": {
      "needs_background": "light"
     },
     "output_type": "display_data"
    }
   ],
   "source": [
    "if __name__ == '__main__':\n",
    "    main(trainData, trainLabels, testData, testLabels, use_regularization=True)"
   ]
  },
  {
   "cell_type": "code",
   "execution_count": null,
   "metadata": {},
   "outputs": [],
   "source": []
  }
 ],
 "metadata": {
  "kernelspec": {
   "display_name": "Python 3",
   "language": "python",
   "name": "python3"
  },
  "language_info": {
   "codemirror_mode": {
    "name": "ipython",
    "version": 3
   },
   "file_extension": ".py",
   "mimetype": "text/x-python",
   "name": "python",
   "nbconvert_exporter": "python",
   "pygments_lexer": "ipython3",
   "version": "3.7.3"
  }
 },
 "nbformat": 4,
 "nbformat_minor": 4
}
