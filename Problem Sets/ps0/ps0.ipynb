{
 "cells": [
  {
   "cell_type": "markdown",
   "metadata": {},
   "source": [
    "# CS 229: Problem Set 0"
   ]
  },
  {
   "cell_type": "markdown",
   "metadata": {},
   "source": [
    "![title](images/ps0_problem1a.png)"
   ]
  },
  {
   "cell_type": "markdown",
   "metadata": {},
   "source": [
    "### Answer:\n",
    "\n",
    "$$ \\nabla f(x)=\\nabla\\left(\\frac{1}{2}\\mathbf{x}^{\\top}\\mathbf{A}\\mathbf{x}+\\mathbf{b}^{\\top} \\mathbf{b}\\right) $$\n",
    "$$=\\frac{1}{2}\\left(\\mathbf{A}+\\mathbf{A}^{\\top}\\right) \\mathbf{x}+\\mathbf{b}$$\n",
    "$$=\\mathbf{A} \\mathbf{x}+\\mathbf{b}$$"
   ]
  },
  {
   "cell_type": "markdown",
   "metadata": {},
   "source": [
    "![title](images/ps0_problem1b.png)"
   ]
  },
  {
   "cell_type": "markdown",
   "metadata": {},
   "source": [
    "$$ \\nabla_{x} f(x)=\\nabla_{x} g(h(x)) $$\n",
    "$$ = \\frac{\\partial f}{\\partial g} \\nabla_{x}h(\\mathbf{x}) $$"
   ]
  },
  {
   "cell_type": "markdown",
   "metadata": {},
   "source": [
    "![title](images/ps0_problem1c.png)"
   ]
  },
  {
   "cell_type": "markdown",
   "metadata": {},
   "source": [
    "### Answer:\n",
    "$$ f(x)=\\frac{1}{2} \\mathbf{x}^{T} \\mathbf{A} \\mathbf{x}+\\mathbf{b}^{T} x $$\n",
    "$$ \\nabla f(x) = \\frac{1}{2}\\left(\\mathbf{A}+\\mathbf{A}^{T}\\right) \\mathbf{x}+\\mathbf{b} $$\n",
    "$$ \\nabla^{2} f(x) =\\nabla_{\\mathbf{x}}\\left(\\frac{1}{2}(\\mathbf{A}+\\mathbf{A}^{T}) \\mathbf{x}+\\mathbf{b}\\right)$$\n",
    "$$ \\nabla^{2} f(x) = \\nabla_{\\mathbf{x}}\\left( (\\mathbf{A})\\mathbf{x} + \\mathbf{b} \\right) $$\n",
    "$$ \\nabla^{2} f(x)= \\mathbf{A} $$"
   ]
  },
  {
   "cell_type": "markdown",
   "metadata": {},
   "source": [
    "![title](images/ps0_problem1d.png)"
   ]
  },
  {
   "cell_type": "markdown",
   "metadata": {},
   "source": [
    "### 1st Derivative:\n",
    "$$ \\nabla_x{f(x)}=\\nabla_x{g}\\left(\\mathbf{a}^{T} \\mathbf{x}\\right) $$\n",
    "$$ \\frac{\\partial f}{\\partial x} = \\frac{\\partial g}{\\partial\\left(\\mathbf{a}^{T} \\mathbf{x}\\right)} \\frac{\\partial \\left(\\mathbf{a}^{T} \\mathbf{x}\\right)}{\\partial x} $$\n",
    "$$ = \\nabla_x{g}\\left(\\mathbf{a}^{T} \\mathbf{x}\\right) \\mathbf{a} $$"
   ]
  },
  {
   "cell_type": "markdown",
   "metadata": {},
   "source": [
    "### 2nd Derivative:\n",
    "$$ = \\nabla{\\left(\\nabla f(x)\\right)} $$\n",
    "$$ \\nabla{\\left(\\nabla f(x)\\right)} = \\nabla_{\\mathbf{x}}\\left( \\mathbf{a} \\nabla{g} \\left( \\mathbf{a}^T \\mathbf{x} \\right) \\right) $$\n",
    "$$ = \\mathbf{a}  \\mathbf{a}^T \\nabla^{2} g(\\mathbf{a}^T \\mathbf{x}) $$"
   ]
  },
  {
   "cell_type": "markdown",
   "metadata": {},
   "source": [
    "![title](images/ps0_problem2.png)"
   ]
  },
  {
   "cell_type": "markdown",
   "metadata": {},
   "source": [
    "![title](images/ps0_problem2a.png)"
   ]
  },
  {
   "cell_type": "markdown",
   "metadata": {},
   "source": [
    "### Answer:\n",
    "$$ A = \\mathbf{z} \\mathbf{z}^T $$\n",
    "$$\n",
    "\\mathbf{z} \\mathbf{z}^T = \\begin{bmatrix} \n",
    "    z_{1}  \\\\\n",
    "    \\vdots \\\\\n",
    "    z_{n}  \n",
    "    \\end{bmatrix}\n",
    "    \\begin{bmatrix} z_{1} \\dots z_{n}  \n",
    "    \\end{bmatrix}\n",
    "    = \\begin{bmatrix} \n",
    "    z_{1} z_{1} & z_{1} z_{2} & \\dots \\\\\n",
    "    z_{2} z_{1} & z_{2} z_{2} & \\dots \\\\\n",
    "    \\vdots & \\ddots &  \\\\\n",
    "    z_{N} z_{1} &  \\dots      & z_{N} z_{N} \n",
    "    \\end{bmatrix}\n",
    "    \\implies \\mathbf{A} = \\mathbf{A}^T\n",
    "    \\mathbf{x}^T A \\mathbf{x} = \\mathbf{x}^T \\mathbf{z} \\mathbf{z}^T \\mathbf{x} \n",
    "$$\n",
    "$$\n",
    "    \\mathbf{B} := \\mathbf{z}^T \\mathbf{x}\n",
    "$$\n",
    "$$\n",
    "    \\mathbf{x}^T A \\mathbf{x} = \\mathbf{B}^T \\mathbf{B} = \\Vert{B}\\Vert_2^2\n",
    "$$"
   ]
  },
  {
   "cell_type": "markdown",
   "metadata": {},
   "source": [
    "![title](images/ps0_problem2b.png)"
   ]
  },
  {
   "cell_type": "markdown",
   "metadata": {},
   "source": [
    "### Answer:\n",
    "Null-space of A: $$ \\mathbf{x}^T A \\mathbf{x} = 0 $$\n",
    "$$\\implies \\mathbf{x}^T z = 0 $$\n",
    "$$\\implies \\mathbf{x} \\perp \\mathbf{z} $$"
   ]
  },
  {
   "cell_type": "markdown",
   "metadata": {},
   "source": [
    "![title](images/ps0_problem2c.png)"
   ]
  },
  {
   "cell_type": "markdown",
   "metadata": {},
   "source": [
    "### Answer:\n",
    "If $\\mathbf{B} \\mathbf{A} \\mathbf{B}^T $ is PSD\n",
    "then $ \\mathbf{x}^{\\top} \\mathbf{B}^{} \\mathbf{A}^{} \\mathbf{B}^{\\top} \\mathbf{x}^{} \\geq 0 $\n",
    "$$ \\mathbf{u} := \\mathbf{x}^{\\top} \\mathbf{B}^{}\\hspace{1ex} where \\hspace{1ex} \\mathbf{u}^{} \\in \\mathbb{R}^{m} $$\n",
    "$$ \\mathbf{x}^{\\top} \\mathbf{B}^{} \\mathbf{A}^{} \\mathbf{B}^{\\top} \\mathbf{x}^{} = \\mathbf{u}^{} \\mathbf{A}^{} \\mathbf{u}^{\\top} $$\n",
    "$$ \\implies \\mathbf{u}^{} \\mathbf{A}^{} \\mathbf{u}^{\\top} \\geq 0^{} $$"
   ]
  },
  {
   "cell_type": "markdown",
   "metadata": {},
   "source": [
    "![title](images/ps0_problem3.png)"
   ]
  },
  {
   "cell_type": "markdown",
   "metadata": {},
   "source": [
    "![title](images/ps0_problem3a.png)"
   ]
  },
  {
   "cell_type": "markdown",
   "metadata": {},
   "source": [
    "### Answer:\n",
    "$$ \\mathbf{A} = \\mathbf{T} \\mathbf{\\Lambda} \\mathbf{T}^{-1} $$\n",
    "$$ \\mathbf{A} \\mathbf{T} =  \\mathbf{T} \\mathbf{\\Lambda} \\mathbf{T}^{-1} \\mathbf{T} $$\n",
    "$$ \\mathbf{A} \\mathbf{T} =  \\mathbf{T} \\mathbf{\\Lambda} $$\n",
    "$$ \\mathbf{A} \\mathbf{T} =  \\mathbf{\\Lambda} \\mathbf{T}  \\hspace{1ex}\\hspace{1ex}\\hspace{1ex}because\\hspace{1ex}\\Lambda\\hspace{1ex}is\\hspace{1ex}diagonal\\hspace{1ex}matrix\\hspace{1ex}\\hspace{1ex}$$\n"
   ]
  },
  {
   "cell_type": "markdown",
   "metadata": {},
   "source": [
    "![title](images/ps0_problem3b.png)"
   ]
  },
  {
   "cell_type": "markdown",
   "metadata": {},
   "source": [
    "### Answer:\n",
    "If $\\mathbf{U}$ is orthogonal $\\implies \\mathbf{U}^{-1} = \\mathbf{U}^{\\top}$\n",
    "$$ \\mathbf{A} \\mathbf{U} = \\mathbf{U} \\mathbf{\\Lambda} \\mathbf{U}^{\\top} \\mathbf{U} $$\n",
    "$$ = \\mathbf{U} \\mathbf{\\Lambda} \\mathbf{U}^{-1} \\mathbf{U} $$\n",
    "$$ = \\mathbf{U} \\mathbf{\\Lambda} $$\n",
    "$$ =  \\mathbf{\\Lambda} \\mathbf{U} $$\n",
    "<center>(because $\\Lambda$ is diagonal matrix)</center>"
   ]
  },
  {
   "cell_type": "markdown",
   "metadata": {},
   "source": [
    "![title](images/ps0_problem3c.png)"
   ]
  },
  {
   "cell_type": "markdown",
   "metadata": {},
   "source": [
    "### Answer:\n",
    "$$\\mathbf{A}\\hspace{1ex}is\\hspace{1ex}PSD,\\hspace{1ex}\\implies\\mathbf{x}^{}\\mathbf{A}^{}\\mathbf{x}^{\\top} \\geq 0 $$\n",
    "$$ = \\mathbf{x}^{}\\hspace{1ex}\\mathbf{U}^{}\\mathbf{\\Lambda}^{}\\mathbf{U}^{\\top}\\hspace{1ex}\\mathbf{x}^{\\top} \\geq 0 $$\n",
    "$$ \\mathbf{y}^{} := \\mathbf{x}^{\\top}\\mathbf{u}^{} $$\n",
    "$$ \\mathbf{x}^{}\\mathbf{U}^{}\\mathbf{\\Lambda}^{}\\mathbf{U}^{\\top}\\mathbf{x}^{\\top} = \\mathbf{y}^{}\\mathbf{\\Lambda}^{}\\mathbf{y}^{\\top}\\hspace{1ex} $$\n",
    "$$ \\mathbf{y}^{}\\mathbf{\\Lambda}^{}\\mathbf{y}^{\\top}= \\sum_{i=1}^{n} \\lambda_{i}y_i^{2}\\hspace{1ex},\\hspace{2ex}where \\hspace{1ex} y_i^{2}\\geq 0 \\hspace{1ex} and \\hspace{1ex} \\hspace{1ex}\\forall{i} $$\n",
    "$$ \\implies \\lambda_{i}\\geq 0 \\hspace{1ex}\\hspace{1ex}\\forall{i} $$"
   ]
  }
 ],
 "metadata": {
  "kernelspec": {
   "display_name": "Python 3",
   "language": "python",
   "name": "python3"
  },
  "language_info": {
   "codemirror_mode": {
    "name": "ipython",
    "version": 3
   },
   "file_extension": ".py",
   "mimetype": "text/x-python",
   "name": "python",
   "nbconvert_exporter": "python",
   "pygments_lexer": "ipython3",
   "version": "3.7.6"
  }
 },
 "nbformat": 4,
 "nbformat_minor": 4
}
