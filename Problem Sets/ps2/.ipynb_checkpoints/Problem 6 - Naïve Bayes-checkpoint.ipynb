{
 "cells": [
  {
   "cell_type": "code",
   "execution_count": 1,
   "metadata": {},
   "outputs": [],
   "source": [
    "%matplotlib inline\n",
    "\n",
    "import math\n",
    "import matplotlib\n",
    "import matplotlib.pyplot as plt\n",
    "import numpy as np\n",
    "import pandas as pd"
   ]
  },
  {
   "cell_type": "code",
   "execution_count": 5,
   "metadata": {},
   "outputs": [],
   "source": [
    "def readMatrix(file):\n",
    "    fd = open(file, 'r')\n",
    "    hdr = fd.readline()\n",
    "    rows, cols = [int(s) for s in fd.readline().strip().split()]\n",
    "    tokens = fd.readline().strip().split()\n",
    "    matrix = np.zeros((rows, cols))\n",
    "    Y = []\n",
    "    for i, line in enumerate(fd):\n",
    "        nums = [int(x) for x in line.strip().split()]\n",
    "        Y.append(nums[0])\n",
    "        kv = np.array(nums[1:])\n",
    "        k = np.cumsum(kv[:-1:2])\n",
    "        v = kv[1::2]\n",
    "        matrix[i, k] = v\n",
    "    return matrix, tokens, np.array(Y)\n",
    "\n",
    "def nb_train(matrix, category):\n",
    "    state = {}\n",
    "    N = matrix.shape[1]\n",
    "    ###################\n",
    "    \n",
    "    total_y_1 = np.sum(category)\n",
    "    total_y_0 = category.shape[0] - total_y_1\n",
    "    phi_y = total_y_1 / category.shape[0] # scalar representing probability of spam\n",
    "    \n",
    "    # (1 x v) vector representing probability word IS NOT present in doc, i.e. P(x | y == 0)\n",
    "    phi_j_0 = (1 + np.sum((matrix > 0) * (1 - category), axis=0)) / total_y_0 \n",
    "    print(f'phi_j_0.shape={phi_j_0.shape}'')\n",
    "    \n",
    "    # (1 x v) vector representing probability word IS present in doc, i.e. P(x | y == 1)\n",
    "    phi_j_1 = (1 + np.sum((matrix > 0) * category, axis=0)) / total_y_1\n",
    "    print(f'phi_j_1.shape={phi_j_1.shape}'')\n",
    "    \n",
    "    # (1 x v) vector representing probability word IS present in doc, i.e. p(x)\n",
    "    prob_x = (phi_j_0 * (1 - phy_y)) + phi_j_1 * phy_y\n",
    "    print(f'prob_x.shape={prob_x.shape}'')\n",
    "    \n",
    "    # (1 x v) vector representing probability doc is spam, given word presence, i.e. p(y==1 | x)\n",
    "    prob_y_given_x = phi_j_1 * phi_y / phi_j\n",
    "    print(f'prob_y_given_x.shape={prob_y_given_x.shape}'')\n",
    "    \n",
    "    \n",
    "    state['phi_y'] = phi_y\n",
    "    state['phi_j'] = phi_j\n",
    "    state['phi_j_0'] = phi_j_0\n",
    "    state['phi_j_1'] = phi_j_1\n",
    "    state['prob_x'] = prob_x\n",
    "    state['prob_y_given_x'] = prob_y_given_x\n",
    "    \n",
    "    ###################\n",
    "    return state\n",
    "\n",
    "def nb_test(matrix, state):\n",
    "    output = np.zeros(matrix.shape[0])\n",
    "    ###################\n",
    "    prob_y_given_x = state['prob_y_given_x']\n",
    "    \n",
    "    \n",
    "    ###################\n",
    "    return output\n",
    "\n",
    "def evaluate(output, label):\n",
    "    error = (output != label).sum() * 1. / len(output)\n",
    "    print('Error: %1.4f' % error)\n",
    "\n",
    "def main():\n",
    "    trainMatrix, tokenlist, trainCategory = readMatrix('data/MATRIX.TRAIN')\n",
    "    testMatrix, tokenlist, testCategory = readMatrix('data/MATRIX.TEST')\n",
    "\n",
    "    state = nb_train(trainMatrix, trainCategory)\n",
    "    output = nb_test(testMatrix, state)\n",
    "\n",
    "    evaluate(output, testCategory)\n",
    "    return"
   ]
  },
  {
   "cell_type": "code",
   "execution_count": 7,
   "metadata": {},
   "outputs": [],
   "source": [
    "trainMatrix, tokenlist, trainCategory = readMatrix('data/MATRIX.TRAIN')"
   ]
  },
  {
   "cell_type": "code",
   "execution_count": 8,
   "metadata": {},
   "outputs": [
    {
     "data": {
      "text/plain": [
       "(2144, 1448)"
      ]
     },
     "execution_count": 8,
     "metadata": {},
     "output_type": "execute_result"
    }
   ],
   "source": [
    "trainMatrix.shape"
   ]
  },
  {
   "cell_type": "code",
   "execution_count": null,
   "metadata": {},
   "outputs": [],
   "source": []
  }
 ],
 "metadata": {
  "kernelspec": {
   "display_name": "Python 3",
   "language": "python",
   "name": "python3"
  },
  "language_info": {
   "codemirror_mode": {
    "name": "ipython",
    "version": 3
   },
   "file_extension": ".py",
   "mimetype": "text/x-python",
   "name": "python",
   "nbconvert_exporter": "python",
   "pygments_lexer": "ipython3",
   "version": "3.8.1"
  }
 },
 "nbformat": 4,
 "nbformat_minor": 4
}
