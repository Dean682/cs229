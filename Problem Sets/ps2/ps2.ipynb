{
 "cells": [
  {
   "cell_type": "markdown",
   "metadata": {},
   "source": [
    "![title](images/ps2_problem1a.png)"
   ]
  },
  {
   "cell_type": "markdown",
   "metadata": {},
   "source": [
    "[Answers Here](ps2_problem_1.ipynb#1a)"
   ]
  },
  {
   "cell_type": "markdown",
   "metadata": {},
   "source": [
    "![title](images/ps2_problem1b.png)"
   ]
  },
  {
   "cell_type": "markdown",
   "metadata": {},
   "source": [
    "[Answers Here](ps2_problem_1.ipynb#1b)"
   ]
  },
  {
   "cell_type": "markdown",
   "metadata": {},
   "source": [
    "![title](images/ps2_problem1c.png)"
   ]
  },
  {
   "cell_type": "markdown",
   "metadata": {},
   "source": [
    "[Answers Here](ps2_problem_1.ipynb#1c)"
   ]
  },
  {
   "cell_type": "markdown",
   "metadata": {},
   "source": [
    "![title](images/ps2_problem1d.png)"
   ]
  },
  {
   "cell_type": "markdown",
   "metadata": {},
   "source": [
    "![title](images/ps2_problem1d_hint.png)"
   ]
  },
  {
   "cell_type": "markdown",
   "metadata": {},
   "source": [
    "[Answers Here](ps2_problem_1.ipynb#1d)"
   ]
  },
  {
   "cell_type": "markdown",
   "metadata": {},
   "source": [
    "![title](images/ps2_problem2a.png)"
   ]
  },
  {
   "cell_type": "markdown",
   "metadata": {},
   "source": [
    "$$ J\\left(\\theta\\right) = \\sum_{i=1}^{n} -\\left(y \\; log\\left(h_{\\theta}\\left(x^{\\left(i\\right)}\\right)\\right) + \\left(1-y\\right)\\left(1 - h_{\\theta}\\left(x^{\\left(i\\right)}\\right) \\right)\\right)\\\\$$\n",
    "$$\n",
    "\\frac{\\partial{J}}{\\partial{\\theta}} = \\sum_{i=1}^{n} -\\left(y \\frac{1}{h_{\\theta}\\left(x^{\\left(i\\right)}\\right)} \\frac{\\partial{h_{\\theta}\\left(x^{\\left(i\\right)}\\right)}}{\\partial{\\theta}}+ \\left(1-y\\right)\\frac{1}{1 - h_{\\theta}\\left(x^{\\left(i\\right)}\\right)}\\frac{\\partial{h_{\\theta}\\left(x^{\\left(i\\right)}\\right)}}{\\partial{\\theta}}\\right)\n",
    "$$"
   ]
  },
  {
   "cell_type": "markdown",
   "metadata": {},
   "source": [
    "$$ \\frac{\\partial{h_{\\theta}\\left(x\\right)}}{\\partial{\\theta}} = h_{\\theta}\\left(x\\right)\\left(1-h_{\\theta}\\left(x\\right)\\right)x \\\\\n",
    "\\frac{\\partial{J}}{\\partial{\\theta}} = \\sum_{i=1}^{n} -x\\left(y \\frac{1}{1-h_{\\theta}\\left(x^{\\left(i\\right)}\\right)} + \\left(1-y\\right)\\frac{1}{h_{\\theta}\\left(x^{\\left(i\\right)}\\right)}\\right) = 0 \\\\\n",
    "x_{\\left(1\\right)} = \\mathbf{1}\\;\\;where\\; \\mathbf{1} \\in \\mathbb{R}^{nx1} \\\\\n",
    "\\frac{\\partial{J}}{\\partial{\\theta_{\\left(1\\right)}}} = 0 = \\sum_{i=1}^{n}-x\\left(y^{\\left(i\\right)}-h^{\\left(i\\right)}\\left(x\\right)\\right)\\\\\n",
    "\\frac{\\partial{J}}{\\partial{\\theta_{\\left(1\\right)}}} = 0 = \\sum_{i=1}^{n}-1\\left(y^{\\left(i\\right)}-h^{\\left(i\\right)}\\left(x\\right)\\right)\\\\\n",
    "\\implies \\sum_{i=1}^{n}y^{\\left(i\\right)} = \\sum_{i=1}^{n}h_{\\theta}^{\\left(i\\right)}\\\\\n",
    "\\implies \\sum_{i=1}^{n}\\mathbb{1}\\{y^{\\left(i\\right)} = 1\\} = \\sum_{i=1}^{n}h_{\\theta}^{\\left(i\\right)}\\\\\n",
    "Q.E.D.\n",
    "$$"
   ]
  },
  {
   "cell_type": "markdown",
   "metadata": {},
   "source": [
    "![title](images/ps2_problem2b.png)"
   ]
  },
  {
   "cell_type": "markdown",
   "metadata": {},
   "source": [
    "No, by counterexample:\n",
    "$$\\tilde{\\phi} := \\frac{\\sum_{i=1}^{n}\\mathbb{1}\\{y^{\\left(i\\right)} = 1\\}}{n}\\\\$$\n",
    "Create binary classification model where $\\hat{y}^{\\left(i\\right)}$ randomly samples from Bernoulli Distribution {1,0}, where parameter $\\phi = \\tilde{\\phi}$\n",
    "$$\\\\\n",
    "$$\n",
    "Model will satisfy calibration constraint:$$\\\\\n",
    "\\implies \\sum_{i=1}^{n}y^{\\left(i\\right)} = \\sum_{i=1}^{n}h_{\\theta}^{\\left(i\\right)} \\\\\n",
    "$$\n",
    "But accuracy will almost surely be less than 100%, as n $\\rightarrow \\infty; $, unless $y = \\mathbf{1}$"
   ]
  },
  {
   "cell_type": "markdown",
   "metadata": {},
   "source": [
    "![title](images/ps2_problem2c.png)"
   ]
  },
  {
   "cell_type": "markdown",
   "metadata": {},
   "source": [
    "$$ L\\left(\\theta\\right) = \\sum_{i=1}^{n} -\\left(y \\; log\\left(h_{\\theta}\\left(x^{\\left(i\\right)}\\right)\\right) + \\left(1-y\\right)\\left(1 - h_{\\theta}\\left(x^{\\left(i\\right)}\\right) \\right)\\right) + \\lambda \\left\\|\\theta\\right\\|^2  \\\\$$\n",
    "$$\n",
    "\\frac{\\partial{J}}{\\partial{\\theta}} = \\sum_{i=1}^{n} -x\\left(y \\frac{1}{1-h_{\\theta}\\left(x^{\\left(i\\right)}\\right)} + \\left(1-y\\right)\\frac{1}{h_{\\theta}\\left(x^{\\left(i\\right)}\\right)}\\right) + 2\\lambda \\theta= 0 \\\\\n",
    "\\\\\n",
    "$$\n",
    "$$\n",
    "\\implies \\sum_{i=1}^{n}h_{\\theta}^{\\left(i\\right)} + 2\\lambda \\theta_{\\left(1\\right)} = \\sum_{i=1}^{n}y^{\\left(i\\right)}\\\\\n",
    "$$\n",
    "$\\implies $ L2-regularized model will be \"under\"-calibrated, where $h_{\\theta}\\left(x\\right)$ would estimate \"1\" values less frequently than actually in dataset."
   ]
  },
  {
   "cell_type": "markdown",
   "metadata": {},
   "source": [
    "![title](images/ps2_problem3.png)"
   ]
  },
  {
   "cell_type": "markdown",
   "metadata": {},
   "source": [
    "## Answer\n",
    "By definition: \n",
    "$$ \\prod_{i=1}^{m}p\\left(y^{\\left(i\\right)}|x^{\\left(i\\right)};\\theta_{ML}\\right) >= \\prod_{i=1}^{m}p\\left(y^{\\left(i\\right)}|x^{\\left(i\\right)};\\theta_{MAP}\\right) \\\\\n",
    "$$\n",
    "If $\\left\\|\\theta_{MAP}\\right\\|_2 > \\left\\|\\theta_{ML}\\right\\|_2 \\implies p\\left(\\theta_{ML}\\right) > p\\left(\\theta_{MAP}\\right) $ $$\\\\\n",
    "$$\n",
    "$$ \\implies p\\left(\\theta_{ML}\\right)\\prod_{i=1}^{m}p\\left(y^{\\left(i\\right)}|x^{\\left(i\\right)};\\theta_{ML}\\right) > p\\left(\\theta_{MAP}\\right)\\prod_{i=1}^{m}p\\left(y^{\\left(i\\right)}|x^{\\left(i\\right)};\\theta_{MAP}\\right) \\\\\n",
    "$$\n",
    "This is a contradiction, because, by definition, $ \\theta_{MAP}\\left( and\\; not\\;\\theta_{ML}\\right) $ should maximize $ p\\left(\\theta\\right)\\prod_{i=1}^{m}p\\left(y^{\\left(i\\right)}|x^{\\left(i\\right)};\\theta\\right) $"
   ]
  },
  {
   "cell_type": "markdown",
   "metadata": {},
   "source": [
    "![title](images/ps2_problem4a.png)"
   ]
  },
  {
   "cell_type": "markdown",
   "metadata": {},
   "source": [
    "## Answer:\n",
    "K is valid Mercer kernel. Proof:\n",
    "$$ x^T K_1 x \\geq 0 $$\n",
    "$$ x^T K_2 x \\geq 0 $$\n",
    "$$ x^T K_1 x + x^T K_2 x = x^T \\left(K_1 + K_2 \\right) x  \\geq 0 $$"
   ]
  },
  {
   "cell_type": "markdown",
   "metadata": {},
   "source": [
    "![title](images/ps2_problem4b.png)"
   ]
  },
  {
   "cell_type": "markdown",
   "metadata": {},
   "source": [
    "## Answer:\n",
    "K is not a valid Mercer kernel. Counterexample:\n",
    "$$ x^T K_1 x \\geq 0 $$\n",
    "$$ K_2 := - 2 K_1 $$\n",
    "$$ x^T K_1 x - x^T K_2 x = x^T \\left(K_1 - 2 K_1 \\right) x  = x^T \\left(- K_1 \\right) x \\leq 0$$ "
   ]
  },
  {
   "cell_type": "markdown",
   "metadata": {},
   "source": [
    "![title](images/ps2_problem4c.png)"
   ]
  },
  {
   "cell_type": "markdown",
   "metadata": {},
   "source": [
    "## Answer:\n",
    "K is not a valid Mercer kernel if $ a < 0 $. Example:\n",
    "$$ x^T K_1 x \\geq 0 $$\n",
    "$$ a := - 1 $$\n",
    "$$ x^T aK x = x^T \\left(-K_1 \\right) x  \\leq 0$$ \n",
    "If $ a \\geq 0 $ then K is valid Mercer kernel"
   ]
  },
  {
   "cell_type": "markdown",
   "metadata": {},
   "source": [
    "![title](images/ps2_problem4d.png)"
   ]
  },
  {
   "cell_type": "markdown",
   "metadata": {},
   "source": [
    "## Answer:\n",
    "K is not a valid Mercer kernel. Counterexample:\n",
    "$$ x^T K_1 x \\geq 0 $$\n",
    "$$ a := 1 $$\n",
    "$$ x^T aK x = x^T \\left(-K_1 \\right) x  \\leq 0$$ "
   ]
  },
  {
   "cell_type": "markdown",
   "metadata": {},
   "source": [
    "![title](images/ps2_problem4e.png)"
   ]
  },
  {
   "cell_type": "markdown",
   "metadata": {},
   "source": [
    "## Answer:\n",
    "K is a valid Mercer kernel. Counterexample:\n",
    "$$ K\\left(x,z\\right) = K_1\\left(x,z\\right)K_2\\left(x,z\\right) $$\n",
    "$$ x^T K x = x^T K_1 K_2 x $$ \n",
    "$$ x^T K x = x^T K_1 x x^{-1}  \\left(x^T\\right)^{-1} x^T K_2 x $$ \n",
    "By definition:\n",
    "$$ x^T K_1 x \\geq 0 $$\n",
    "$$ x^T K_2 x \\geq 0 $$\n",
    "$$ C :=  x^{-1}  \\left(x^T\\right)^{-1} $$\n",
    "We need to prove: $ C \\geq 0 $\n",
    "$$ C = \\left(x^T x \\right)^{-1} $$\n",
    "$$ C^{-1} = x^T x = \\sum_{i=1}^{m}x_i^2 $$\n",
    "$$ \\implies C^{-1} \\in \\mathbb{R} \\; and \\; C^{-1} \\; \\geq 0 $$\n",
    "$$ \\implies C \\geq 0 $$\n",
    "$$ \\implies x^T K x \\geq 0 $$"
   ]
  },
  {
   "cell_type": "markdown",
   "metadata": {},
   "source": [
    "![title](images/ps2_problem4f.png)"
   ]
  },
  {
   "cell_type": "markdown",
   "metadata": {},
   "source": [
    "## Answer: K = f(x)f(z) is a valid Mercer kernel\n",
    "$$ x^T K x = \\sum_{i=1}^{m}x_i f\\left(x_i\\right)\\sum_{j=1}^{m}x_j f\\left(x_j\\right) $$\n",
    "$$ = \\left(\\sum_{i=1}^{m}x_i f\\left(x_i\\right)\\right)^2 \\geq 0$$"
   ]
  },
  {
   "cell_type": "markdown",
   "metadata": {},
   "source": [
    "![title](images/ps2_problem4g.png)"
   ]
  },
  {
   "cell_type": "markdown",
   "metadata": {},
   "source": [
    "## Answer:\n",
    "If $K_3\\left(x,z\\right)$ is a Mercer kernel, so is K, just replace $\\phi\\left(x\\right)$ with x, and $\\phi\\left(z\\right)$ with z"
   ]
  },
  {
   "cell_type": "markdown",
   "metadata": {},
   "source": [
    "![title](images/ps2_problem4h.png)"
   ]
  },
  {
   "cell_type": "markdown",
   "metadata": {},
   "source": [
    "## Answer:\n",
    "$$ K\\left(x,z\\right) = p\\left(K_1\\left(x,z\\right)\\right) $$\n",
    "$$ = \\sum_{i=1}^{d}c_iK_1\\left(x,z\\right)\\;where\\;c_i \\geq 0\\;where\\;i\\in \\{1,...,d\\} $$\n",
    "$$ x^T K x = \\sum_{i=1}^{d}x^Tc_iK_1\\left(x,z\\right)x $$\n",
    "From part c), we know that multiplying a valid Mercer kernel by postive constant, also results in a valid Kernel.\n",
    "From part a), we know that summing two or more valid Mercer kernels also results in a valid Kernel.\n",
    "$ \\implies \\sum_{i=1}^{d}x^Tc_iK_1\\left(x,z\\right) $$"
   ]
  },
  {
   "cell_type": "markdown",
   "metadata": {},
   "source": [
    "![title](images/ps2_problem5a.png)"
   ]
  },
  {
   "cell_type": "markdown",
   "metadata": {},
   "source": []
  },
  {
   "cell_type": "markdown",
   "metadata": {},
   "source": [
    "![title](images/ps2_problem5b.png)"
   ]
  },
  {
   "cell_type": "markdown",
   "metadata": {},
   "source": []
  },
  {
   "cell_type": "markdown",
   "metadata": {},
   "source": [
    "![title](images/ps2_problem5c.png)"
   ]
  },
  {
   "cell_type": "markdown",
   "metadata": {},
   "source": []
  },
  {
   "cell_type": "markdown",
   "metadata": {},
   "source": [
    "![title](images/ps2_problem6.png)"
   ]
  },
  {
   "cell_type": "markdown",
   "metadata": {},
   "source": [
    "[Answers Here]('ps2_problem_6.ipynb')"
   ]
  },
  {
   "cell_type": "code",
   "execution_count": null,
   "metadata": {},
   "outputs": [],
   "source": []
  }
 ],
 "metadata": {
  "kernelspec": {
   "display_name": "Python 3",
   "language": "python",
   "name": "python3"
  },
  "language_info": {
   "codemirror_mode": {
    "name": "ipython",
    "version": 3
   },
   "file_extension": ".py",
   "mimetype": "text/x-python",
   "name": "python",
   "nbconvert_exporter": "python",
   "pygments_lexer": "ipython3",
   "version": "3.7.6"
  }
 },
 "nbformat": 4,
 "nbformat_minor": 4
}
