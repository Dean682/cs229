{
 "cells": [
  {
   "cell_type": "code",
   "execution_count": 1,
   "metadata": {},
   "outputs": [],
   "source": [
    "%matplotlib inline\n",
    "\n",
    "import math\n",
    "import matplotlib\n",
    "import matplotlib.pyplot as plt\n",
    "import numpy as np\n",
    "import pandas as pd"
   ]
  },
  {
   "cell_type": "code",
   "execution_count": 321,
   "metadata": {},
   "outputs": [],
   "source": [
    "def readMatrix(file):\n",
    "    fd = open(file, 'r')\n",
    "    hdr = fd.readline()\n",
    "    rows, cols = [int(s) for s in fd.readline().strip().split()]\n",
    "    tokens = fd.readline().strip().split()\n",
    "    matrix = np.zeros((rows, cols))\n",
    "    Y = []\n",
    "    for i, line in enumerate(fd):\n",
    "        nums = [int(x) for x in line.strip().split()]\n",
    "        Y.append(nums[0])\n",
    "        kv = np.array(nums[1:])\n",
    "        k = np.cumsum(kv[:-1:2])\n",
    "        v = kv[1::2]\n",
    "        matrix[i, k] = v\n",
    "    return matrix, tokens, np.array(Y)\n",
    "\n",
    "def nb_train(matrix, category):\n",
    "    state = {}\n",
    "    N = matrix.shape[1]\n",
    "    ###################\n",
    "    category = category.reshape((category.shape[0], 1))\n",
    "    total_y_1 = np.sum(category)\n",
    "    total_y_0 = category.shape[0] - total_y_1\n",
    "    phi_y = total_y_1 / category.shape[0] # scalar representing probability of spam\n",
    "    \n",
    "    #print(f'phi_y={phi_y}')\n",
    "    # (1 x v) vector representing probability word IS NOT present in doc, i.e. P(x | y == 0)\n",
    "    phi_j_0 = (1 + np.sum( (matrix > 0) * (1 - category), axis=0)) / (2 + total_y_0)\n",
    "    phi_j_0 = phi_j_0.reshape((phi_j_0.shape[0], 1))\n",
    "    #print(f'phi_j_0.shape={phi_j_0.shape}')\n",
    "    \n",
    "    # (1 x v) vector representing probability word IS present in doc, i.e. P(x | y == 1)\n",
    "    phi_j_1 = (1 + np.sum((matrix > 0) * category, axis=0)) / (2 + total_y_1)\n",
    "    phi_j_1 = phi_j_1.reshape((phi_j_0.shape[0], 1))\n",
    "    #print(f'phi_j_1.shape={phi_j_1.shape}')\n",
    "    \n",
    "    # (1 x v) vector representing probability word IS present in doc, i.e. p(x)\n",
    "    prob_x = (phi_j_0 * (1 - phi_y)) + phi_j_1 * phi_y\n",
    "    #print(f'prob_x.shape={prob_x.shape}')\n",
    "    \n",
    "    state['phi_y'] = phi_y\n",
    "    state['phi_j_0'] = phi_j_0\n",
    "    state['phi_j_1'] = phi_j_1\n",
    "    \n",
    "    state['divergence'] = ((phi_j_1 / phi_j_0)).reshape(phi_j_1.shape[0])\n",
    "    ###################\n",
    "    return state\n",
    "\n",
    "def nb_test(matrix, state):\n",
    "    output = np.zeros(matrix.shape[0])\n",
    "    ###################\n",
    "    phi_y = state['phi_y']\n",
    "    phi_j_0 = state['phi_j_0']\n",
    "    phi_j_1 = state['phi_j_1']\n",
    "    \n",
    "    i_matrix = (matrix > 0)\n",
    "    p_x_y_1 = i_matrix.dot(phi_j_1) * phi_y\n",
    "    p_x_y_0 = i_matrix.dot(phi_j_0) * (1 - phi_y)\n",
    "    \n",
    "    ln_p_x_y_1 = np.sum(np.ma.log(p_x_y_1).filled(0), axis = 1)\n",
    "    ln_p_x_y_0 = np.sum(np.ma.log(p_x_y_0).filled(0), axis = 1)\n",
    "\n",
    "    #print(f'nb_test(): ln_p_x_y_1.shape={ln_p_x_y_1.shape}')\n",
    "    #print(f'nb_test(): ln_p_x_y_0.shape={ln_p_x_y_1.shape}')\n",
    "\n",
    "    Prob_x_y_1 = np.exp(ln_p_x_y_1)\n",
    "    Prob_x_y_0 = np.exp(ln_p_x_y_0)\n",
    "          \n",
    "    Prob_y_x = Prob_x_y_1 / (Prob_x_y_1 + Prob_x_y_0)\n",
    "\n",
    "    #print(f'nb_test(): Prob_y_x.shape={Prob_y_x.shape}')\n",
    "    #print(f'nb_test(): Prob_x_y_0.shape={Prob_x_y_0.shape}')\n",
    "    #print(f'nb_test(): Prob_x_y_1.shape={Prob_x_y_1.shape}')\n",
    "    output = Prob_y_x > 0.5\n",
    "    ###################\n",
    "    return output\n",
    "\n",
    "def evaluate(output, label):\n",
    "    error = (output != label).sum() * 1. / len(output)\n",
    "    print('Error: %1.4f' % error)\n",
    "    return error\n",
    "\n",
    "def main():\n",
    "    trainMatrix, tokenlist, trainCategory = readMatrix('data/MATRIX.TRAIN')\n",
    "    testMatrix, tokenlist, testCategory = readMatrix('data/MATRIX.TEST')\n",
    "\n",
    "    state = nb_train(trainMatrix, trainCategory)\n",
    "    output = nb_test(testMatrix, state)\n",
    "\n",
    "    evaluate(output, testCategory)\n",
    "    return"
   ]
  },
  {
   "cell_type": "code",
   "execution_count": 322,
   "metadata": {},
   "outputs": [],
   "source": [
    "trainMatrix, tokenlist, trainCategory = readMatrix('data/MATRIX.TRAIN')"
   ]
  },
  {
   "cell_type": "code",
   "execution_count": 323,
   "metadata": {},
   "outputs": [],
   "source": [
    "testMatrix, tokenlist, testCategory = readMatrix('data/MATRIX.TEST')"
   ]
  },
  {
   "cell_type": "code",
   "execution_count": 324,
   "metadata": {},
   "outputs": [
    {
     "data": {
      "text/plain": [
       "(2144, 1448)"
      ]
     },
     "execution_count": 324,
     "metadata": {},
     "output_type": "execute_result"
    }
   ],
   "source": [
    "trainMatrix.shape"
   ]
  },
  {
   "cell_type": "code",
   "execution_count": 325,
   "metadata": {},
   "outputs": [
    {
     "data": {
      "text/plain": [
       "(2144,)"
      ]
     },
     "execution_count": 325,
     "metadata": {},
     "output_type": "execute_result"
    }
   ],
   "source": [
    "trainCategory.shape"
   ]
  },
  {
   "cell_type": "code",
   "execution_count": 326,
   "metadata": {},
   "outputs": [],
   "source": [
    "state = nb_train(trainMatrix, trainCategory)"
   ]
  },
  {
   "cell_type": "code",
   "execution_count": 327,
   "metadata": {},
   "outputs": [
    {
     "data": {
      "text/plain": [
       "0.49906716417910446"
      ]
     },
     "execution_count": 327,
     "metadata": {},
     "output_type": "execute_result"
    }
   ],
   "source": [
    "state['phi_y']"
   ]
  },
  {
   "cell_type": "code",
   "execution_count": 328,
   "metadata": {},
   "outputs": [
    {
     "data": {
      "text/plain": [
       "array([1.06646455, 2.32112873, 1.20447761, 1.68809362, 0.58110762,\n",
       "       0.47234416, 2.32292111, 0.61339138, 0.75791959, 0.84524745])"
      ]
     },
     "execution_count": 328,
     "metadata": {},
     "output_type": "execute_result"
    }
   ],
   "source": [
    "state['divergence'][0:10]"
   ]
  },
  {
   "cell_type": "code",
   "execution_count": 329,
   "metadata": {},
   "outputs": [
    {
     "data": {
      "text/plain": [
       "(1448,)"
      ]
     },
     "execution_count": 329,
     "metadata": {},
     "output_type": "execute_result"
    }
   ],
   "source": [
    "state['divergence'].shape"
   ]
  },
  {
   "cell_type": "code",
   "execution_count": 330,
   "metadata": {},
   "outputs": [
    {
     "data": {
      "text/plain": [
       "array([1.06646455, 2.32112873, 1.20447761, 1.68809362, 0.58110762])"
      ]
     },
     "execution_count": 330,
     "metadata": {},
     "output_type": "execute_result"
    }
   ],
   "source": [
    "state['divergence'][0:5]"
   ]
  },
  {
   "cell_type": "code",
   "execution_count": 331,
   "metadata": {},
   "outputs": [],
   "source": [
    "top_5_divergent_words = (-state['divergence']).argsort()[:50]"
   ]
  },
  {
   "cell_type": "code",
   "execution_count": 332,
   "metadata": {},
   "outputs": [
    {
     "data": {
      "text/plain": [
       "array([1209,  615, 1356, 1403,  758,  221,  305, 1402,  429,  848,   45,\n",
       "       1268,  204,  727, 1056,  266,  676,  308,   96,  786,  352, 1355,\n",
       "        614, 1057, 1368,  884, 1357,  909,  281,  834,  812,  862,   74,\n",
       "        592,  384,  506, 1145, 1439,  979,  604,  978,  612, 1249,  154,\n",
       "       1264,  261, 1010,  641,  885,  744])"
      ]
     },
     "execution_count": 332,
     "metadata": {},
     "output_type": "execute_result"
    }
   ],
   "source": [
    "top_5_divergent_words"
   ]
  },
  {
   "cell_type": "code",
   "execution_count": 333,
   "metadata": {},
   "outputs": [],
   "source": [
    "output = nb_test(testMatrix, state)"
   ]
  },
  {
   "cell_type": "code",
   "execution_count": 334,
   "metadata": {},
   "outputs": [
    {
     "name": "stdout",
     "output_type": "stream",
     "text": [
      "Error: 0.0013\n"
     ]
    },
    {
     "data": {
      "text/plain": [
       "0.00125"
      ]
     },
     "execution_count": 334,
     "metadata": {},
     "output_type": "execute_result"
    }
   ],
   "source": [
    "evaluate(output, testCategory)"
   ]
  },
  {
   "cell_type": "code",
   "execution_count": 337,
   "metadata": {},
   "outputs": [
    {
     "name": "stdout",
     "output_type": "stream",
     "text": [
      "0\n",
      "Error: 0.2362\n",
      "1\n",
      "Error: 0.0688\n",
      "2\n",
      "Error: 0.0088\n",
      "3\n",
      "Error: 0.0013\n",
      "4\n",
      "Error: 0.0013\n",
      "5\n",
      "Error: 0.0013\n",
      "[0.23625, 0.06875, 0.00875, 0.00125, 0.00125, 0.00125]\n"
     ]
    },
    {
     "data": {
      "text/plain": [
       "[<matplotlib.lines.Line2D at 0x124336fd0>]"
      ]
     },
     "execution_count": 337,
     "metadata": {},
     "output_type": "execute_result"
    },
    {
     "data": {
      "image/png": "[encoded data removed]",
      "text/plain": [
       "<Figure size 432x288 with 1 Axes>"
      ]
     },
     "metadata": {
      "needs_background": "light"
     },
     "output_type": "display_data"
    }
   ],
   "source": [
    "suffices = [50, 100, 200, 400, 800, 1400]\n",
    "error_rates = []\n",
    "\n",
    "for index, suffix in enumerate(suffices):\n",
    "    filename = 'data/MATRIX.TRAIN.' + str(suffix)\n",
    "    print(index)\n",
    "    trainMatrix, tokenlist, trainCategory = readMatrix(filename)\n",
    "    testMatrix, tokenlist, testCategory = readMatrix('data/MATRIX.TEST')\n",
    "    state = nb_train(trainMatrix, trainCategory)\n",
    "    output = nb_test(testMatrix, state)\n",
    "    error_rates.append(evaluate(output, testCategory))\n",
    "print(error_rates)\n",
    "plt.title('Learning Curve')\n",
    "plt.plot(suffices, error_rates)"
   ]
  },
  {
   "cell_type": "code",
   "execution_count": 344,
   "metadata": {},
   "outputs": [],
   "source": [
    "tau = 8.\n",
    "\n",
    "def readMatrixSVM(file):\n",
    "    fd = open(file, 'r')\n",
    "    hdr = fd.readline()\n",
    "    rows, cols = [int(s) for s in fd.readline().strip().split()]\n",
    "    tokens = fd.readline().strip().split()\n",
    "    matrix = np.zeros((rows, cols))\n",
    "    Y = []\n",
    "    for i, line in enumerate(fd):\n",
    "        nums = [int(x) for x in line.strip().split()]\n",
    "        Y.append(nums[0])\n",
    "        kv = np.array(nums[1:])\n",
    "        k = np.cumsum(kv[:-1:2])\n",
    "        v = kv[1::2]\n",
    "        matrix[i, k] = v\n",
    "    category = (np.array(Y) * 2) - 1\n",
    "    return matrix, tokens, category\n",
    "\n",
    "def svm_train(matrix, category):\n",
    "    state = {}\n",
    "    M, N = matrix.shape\n",
    "    #####################\n",
    "    Y = category\n",
    "    matrix = 1. * (matrix > 0)\n",
    "    squared = np.sum(matrix * matrix, axis=1)\n",
    "    gram = matrix.dot(matrix.T)\n",
    "    K = np.exp(-(squared.reshape((1, -1)) + squared.reshape((-1, 1)) - 2 * gram) / (2 * (tau ** 2)) )\n",
    "\n",
    "    alpha = np.zeros(M)\n",
    "    alpha_avg = np.zeros(M)\n",
    "    L = 1. / (64 * M)\n",
    "    outer_loops = 40\n",
    "\n",
    "    alpha_avg\n",
    "    for ii in range(outer_loops * M):\n",
    "        i = int(np.random.rand() * M)\n",
    "        margin = Y[i] * np.dot(K[i, :], alpha)\n",
    "        grad = M * L * K[:, i] * alpha[i]\n",
    "        if (margin < 1):\n",
    "            grad -=  Y[i] * K[:, i]\n",
    "        alpha -=  grad / np.sqrt(ii + 1)\n",
    "        alpha_avg += alpha\n",
    "\n",
    "    alpha_avg /= (ii + 1) * M\n",
    "\n",
    "    state['alpha'] = alpha\n",
    "    state['alpha_avg'] = alpha_avg\n",
    "    state['Xtrain'] = matrix\n",
    "    state['Sqtrain'] = squared\n",
    "    ####################\n",
    "    return state\n",
    "\n",
    "def svm_test(matrix, state):\n",
    "    M, N = matrix.shape\n",
    "    output = np.zeros(M)\n",
    "    ###################\n",
    "    Xtrain = state['Xtrain']\n",
    "    Sqtrain = state['Sqtrain']\n",
    "    matrix = 1. * (matrix > 0)\n",
    "    squared = np.sum(matrix * matrix, axis=1)\n",
    "    gram = matrix.dot(Xtrain.T)\n",
    "    K = np.exp(-(squared.reshape((-1, 1)) + Sqtrain.reshape((1, -1)) - 2 * gram) / (2 * (tau ** 2)))\n",
    "    alpha_avg = state['alpha_avg']\n",
    "    preds = K.dot(alpha_avg)\n",
    "    output = np.sign(preds)\n",
    "    ###################\n",
    "    return output\n",
    "\n",
    "def evaluate(output, label):\n",
    "    error = (output != label).sum() * 1. / len(output)\n",
    "    print('Error: %1.4f' % error)\n",
    "    return error\n",
    "\n",
    "def main():\n",
    "    trainMatrix, tokenlist, trainCategory = readMatrixSVM('MATRIX.TRAIN.400')\n",
    "    testMatrix, tokenlist, testCategory = readMatrixSVM('MATRIX.TEST')\n",
    "\n",
    "    state = svm_train(trainMatrix, trainCategory)\n",
    "    output = svm_test(testMatrix, state)\n",
    "\n",
    "    evaluate(output, testCategory)\n",
    "    return"
   ]
  },
  {
   "cell_type": "code",
   "execution_count": 345,
   "metadata": {},
   "outputs": [
    {
     "name": "stdout",
     "output_type": "stream",
     "text": [
      "0\n",
      "Error: 0.0138\n",
      "1\n",
      "Error: 0.0112\n",
      "2\n",
      "Error: 0.0025\n",
      "3\n",
      "Error: 0.0025\n",
      "4\n",
      "Error: 0.0000\n",
      "5\n",
      "Error: 0.0000\n"
     ]
    },
    {
     "data": {
      "text/plain": [
       "[<matplotlib.lines.Line2D at 0x1170b2eb0>]"
      ]
     },
     "execution_count": 345,
     "metadata": {},
     "output_type": "execute_result"
    },
    {
     "data": {
      "image/png": "[encoded data removed]",
      "text/plain": [
       "<Figure size 432x288 with 1 Axes>"
      ]
     },
     "metadata": {
      "needs_background": "light"
     },
     "output_type": "display_data"
    }
   ],
   "source": [
    "suffices = [50, 100, 200, 400, 800, 1400]\n",
    "error_rates = []\n",
    "\n",
    "for index, suffix in enumerate(suffices):\n",
    "    filename = 'data/MATRIX.TRAIN.' + str(suffix)\n",
    "    print(index)\n",
    "    trainMatrix, tokenlist, trainCategory = readMatrixSVM(filename)\n",
    "    testMatrix, tokenlist, testCategory = readMatrixSVM('data/MATRIX.TEST')\n",
    "    state = svm_train(trainMatrix, trainCategory)\n",
    "    output = svm_test(testMatrix, state)\n",
    "    error_rates.append(evaluate(output, testCategory))\n",
    "plt.title('Learning Curve')\n",
    "plt.plot(suffices, error_rates)"
   ]
  },
  {
   "cell_type": "code",
   "execution_count": 346,
   "metadata": {},
   "outputs": [
    {
     "data": {
      "text/plain": [
       "[0.01375, 0.01125, 0.0025, 0.0025, 0.0, 0.0]"
      ]
     },
     "execution_count": 346,
     "metadata": {},
     "output_type": "execute_result"
    }
   ],
   "source": [
    "error_rates"
   ]
  },
  {
   "cell_type": "markdown",
   "metadata": {},
   "source": [
    "### We see SVM converges far more quickly than Naïve Bayes"
   ]
  }
 ],
 "metadata": {
  "kernelspec": {
   "display_name": "Python 3",
   "language": "python",
   "name": "python3"
  },
  "language_info": {
   "codemirror_mode": {
    "name": "ipython",
    "version": 3
   },
   "file_extension": ".py",
   "mimetype": "text/x-python",
   "name": "python",
   "nbconvert_exporter": "python",
   "pygments_lexer": "ipython3",
   "version": "3.8.1"
  }
 },
 "nbformat": 4,
 "nbformat_minor": 4
}
