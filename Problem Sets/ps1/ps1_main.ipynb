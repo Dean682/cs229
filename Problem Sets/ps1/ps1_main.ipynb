{
 "cells": [
  {
   "cell_type": "markdown",
   "metadata": {},
   "source": [
    "![title](images/ps1_problem1a.png)"
   ]
  },
  {
   "cell_type": "markdown",
   "metadata": {},
   "source": [
    "$$ h_{\\theta}\\left(y^{\\left(i\\right)}x^{\\left(i\\right)}\\right) := g\\left(\\theta^{\\top}y^{\\left(i\\right)}x^{\\left(i\\right)}\\right) $$\n",
    "$$ g\\left(z\\right) := \\frac{1}{\\left(1 + e^{-z}\\right)} $$\n",
    "$$ z := -y^{\\left(i\\right)}\\theta^{\\top}x^{\\left(i\\right)} $$\n",
    "$$ \\frac{\\partial{J}}{\\partial{\\theta}} =  \\frac{\\partial{J}}{\\partial{h}}\\frac{\\partial{h}}{\\partial{g}}\n",
    "\\frac{\\partial{g}}{\\partial{z}}\\frac{\\partial{z}}{\\partial{\\theta}}$$"
   ]
  },
  {
   "cell_type": "markdown",
   "metadata": {},
   "source": [
    "$$ \\frac{\\partial{J}}{\\partial{h}} = \\frac{-1}{m} \\sum\\limits_{i=1}^{m}\\frac{1}{h_{\\theta}\\left(y^{\\left(i\\right)}x^{\\left(i\\right)}\\right)}$$\n",
    "$$ \\frac{\\partial{h}}{\\partial{g}} = 1 $$\n",
    "$$ \\frac{\\partial{g}}{\\partial{z}} = g\\left(z\\right) \\left(1 - g\\left(z\\right)\\right)$$\n",
    "$$ \\frac{\\partial{z}}{\\partial{\\theta}} = y^{\\left(i\\right)}x^{\\left(i\\right)}$$"
   ]
  },
  {
   "cell_type": "markdown",
   "metadata": {},
   "source": [
    "$$\\frac{\\partial{J}}{\\partial{\\theta}} = -\\frac{1}{m} \\sum\\limits_{i=1}^{m}\\frac{1}{h_{\\theta}\\left(y^{\\left(i\\right)}x^{\\left(i\\right)}\\right)}g\\left(z\\right) \\left(1 - g\\left(z\\right)\\right)y^{\\left(i\\right)}x^{\\left(i\\right)}$$"
   ]
  },
  {
   "cell_type": "markdown",
   "metadata": {},
   "source": [
    "$$= -\\frac{1}{m} \\sum\\limits_{i=1}^{m}\\left(1 - g\\left(z\\right)\\right)y^{\\left(i\\right)}x^{\\left(i\\right)}$$\n",
    "$$= -\\frac{1}{m} \\sum\\limits_{i=1}^{m}\\left(1 - g\\left(-y^{\\left(i\\right)}\\theta^{\\top}x^{\\left(i\\right)}\\right)\\right)y^{\\left(i\\right)}x^{\\left(i\\right)}$$"
   ]
  },
  {
   "cell_type": "markdown",
   "metadata": {},
   "source": [
    "$$= -\\frac{1}{m} \\sum\\limits_{i=1}^{m}\\left(1 - g\\left(-y^{\\left(i\\right)}\\theta^{\\top}x^{\\left(i\\right)}\\right)\\right)y^{\\left(i\\right)}x^{\\left(i\\right)}$$"
   ]
  },
  {
   "cell_type": "markdown",
   "metadata": {},
   "source": [
    "$$= -\\frac{1}{m} \\sum\\limits_{i=1}^{m}e^{-y^{\\left(i\\right)}\\theta^{\\top}x^{\\left(i\\right)}}g\\left(y^{\\left(i\\right)}\\theta^{\\top}x^{\\left(i\\right)}\\right)y^{\\left(i\\right)}x^{\\left(i\\right)}$$"
   ]
  },
  {
   "cell_type": "markdown",
   "metadata": {},
   "source": [
    "$$ \\frac{\\partial^{2}{J}}{\\partial{\\theta^{2}}} =  \\frac{\\partial^{2}{J}}{\\partial{h^{2}}}\\frac{\\partial^{2}{h}}{\\partial{g^{2}}}\n",
    "\\frac{\\partial^{2}{g}}{\\partial{z^{2}}}\\frac{\\partial^{2}{z}}{\\partial{\\theta^{2}}}$$"
   ]
  },
  {
   "cell_type": "markdown",
   "metadata": {},
   "source": [
    "$$ \\frac{\\partial^{2}{J}}{\\partial{\\theta^{2}}} =  \\left(+\\frac{1}{m} \\left(\\sum\\limits_{i=1}^{m}e^{-y^{\\left(i\\right)}\\theta^{\\top}x^{\\left(i\\right)}}g\\left(y^{\\left(i\\right)}\\theta^{\\top}x^{\\left(i\\right)}\\right)\\left(y^{\\left(i\\right)}\\right)^{2}x^{\\left(i\\right)}x^{\\left(i\\right)^{\\top}}\\right) - \\frac{1}{m} \\left(\\sum\\limits_{i=1}^{m}e^{-y^{\\left(i\\right)}\\theta^{\\top}x^{\\left(i\\right)}}g\\left(1-g\\right)\\left(y^{\\left(i\\right)}\\right)^{2}x^{\\left(i\\right)}x^{\\left(i\\right)^{\\top}}\\right)\\right)$$"
   ]
  },
  {
   "cell_type": "markdown",
   "metadata": {},
   "source": [
    "$$ = \\frac{1}{m} \\left(\\sum\\limits_{i=1}^{m}e^{-y^{\\left(i\\right)}\\theta^{\\top}x^{\\left(i\\right)}}\\left(g\\right)^2\\left(y^{\\left(i\\right)}\\right)^2x^{\\left(i\\right)}x^{\\left(i\\right)^{\\top}}\\right)$$\n",
    "$$ = \\frac{1}{m} \\left(\\sum\\limits_{i=1}^{m}e^{-y^{\\left(i\\right)}\\theta^{\\top}x^{\\left(i\\right)}}\\left(g\\right)^{2}x^{\\left(i\\right)}x^{\\left(i\\right)^{\\top}}\\right)$$"
   ]
  },
  {
   "cell_type": "markdown",
   "metadata": {},
   "source": [
    "$$ z\\frac{\\partial^{2}{J}}{\\partial{\\theta^{2}}}z^{\\top} = z \\frac{1}{m} \\left(\\sum\\limits_{i=1}^{m}e^{-y^{\\left(i\\right)}\\theta^{\\top}x^{\\left(i\\right)}}\\left(g\\right)^{2}x^{\\left(i\\right)}x^{\\left(i\\right)^{\\top}}\\right) z^{\\top}$$"
   ]
  },
  {
   "cell_type": "markdown",
   "metadata": {},
   "source": [
    "$$ = \\frac{1}{m} \\left(\\sum\\limits_{i=1}^{m}e^{-y^{\\left(i\\right)}\\theta^{\\top}x^{\\left(i\\right)}}z\\left(g\\right)^2x^{\\left(i\\right)}x^{\\left(i\\right)^{\\top}}z^{\\top}\\right) \\geq 0 $$"
   ]
  },
  {
   "cell_type": "markdown",
   "metadata": {},
   "source": [
    "![title](images/ps1_problem1b.png)"
   ]
  },
  {
   "cell_type": "markdown",
   "metadata": {},
   "source": [
    "[Answers Here](ps1_problem_1.ipynb#1b)"
   ]
  },
  {
   "cell_type": "markdown",
   "metadata": {},
   "source": [
    "![title](images/ps1_problem1c.png)"
   ]
  },
  {
   "cell_type": "markdown",
   "metadata": {},
   "source": [
    "[Answers Here](ps1_problem_1.ipynb#1c)"
   ]
  },
  {
   "cell_type": "markdown",
   "metadata": {},
   "source": [
    "![title](images/ps1_problem2a.png)"
   ]
  },
  {
   "cell_type": "markdown",
   "metadata": {},
   "source": [
    "$$ b\\left(y\\right) = \\frac{1}{y!} $$\n",
    "$$ \\eta = log\\left(\\lambda^{T\\left(y\\right)}\\right) $$\n",
    "$$ T\\left(y\\right) = y $$\n",
    "$$ a\\left(\\eta\\right) = e^{log\\left(\\lambda^{T\\left(y\\right)}\\right)} = e^\\eta $$"
   ]
  },
  {
   "cell_type": "markdown",
   "metadata": {},
   "source": [
    "![title](images/ps1_problem2b.png)"
   ]
  },
  {
   "cell_type": "markdown",
   "metadata": {},
   "source": [
    "$$ E[e^{T\\left(y\\right)}] = E[y] $$\n",
    "$$ E[y] = \\lambda $$"
   ]
  },
  {
   "cell_type": "markdown",
   "metadata": {},
   "source": [
    "![title](images/ps1_problem2c.png)"
   ]
  },
  {
   "cell_type": "markdown",
   "metadata": {},
   "source": [
    "$$ p\\left(y;e^\\eta\\right) = \\frac{e^{-e^\\eta}e^{\\eta y}}{y!} $$\n",
    "$$ = \\frac{e^{\\left(\\eta y -e^\\eta\\right)}}{y!} $$\n",
    "$$ ln\\left(p\\left(y;e^\\eta\\right)\\right) = ln\\left(\\frac{e^{\\left(\\eta y -e^\\eta\\right)}}{y!}\\right) $$\n",
    "$$ = \\left(\\eta y -e^\\eta\\right) - ln\\left(y!\\right) $$\n",
    "$$ = \\left(\\theta^{\\top} x y -e^{\\theta^{\\top} x}\\right) - ln\\left(y!\\right) $$"
   ]
  },
  {
   "cell_type": "markdown",
   "metadata": {},
   "source": [
    "$$ \\frac{\\partial{ln\\left(p\\left(y;\\lambda\\right)\\right)}}{\\partial{\\theta}} =  \\left(x y -xe^{\\theta^{\\top} x}\\right)$$\n",
    "$$ =  x\\left(y -e^{\\theta^{\\top}}\\right)$$\n",
    "$$\\Theta_t = \\Theta_\\left(t+1\\right) + \\alpha x\\left(y -e^{\\theta^{\\top}}\\right) $$"
   ]
  },
  {
   "cell_type": "markdown",
   "metadata": {},
   "source": [
    "![title](images/ps1_problem2d.png)"
   ]
  },
  {
   "cell_type": "markdown",
   "metadata": {},
   "source": []
  },
  {
   "cell_type": "markdown",
   "metadata": {},
   "source": [
    "![title](images/ps1_problem3ai.png)"
   ]
  },
  {
   "cell_type": "markdown",
   "metadata": {},
   "source": [
    "## Answer:\n",
    "$$ p\\left(y=1|x;\\phi,\\Sigma,\\mu_{-1},\\mu_1\\right) = \\frac{p\\left(x|y=1\\right)p\\left(y=1\\right)}{p\\left(x|y=1\\right)p\\left(y=1\\right)+p\\left(x|y=-1\\right)p\\left(y=-1\\right)}$$\n",
    "$$ = \\frac{1}{1 + \\frac{p\\left(x|y=-1\\right)p\\left(y=-1\\right)}{p\\left(x|y=1\\right)p\\left(y=1\\right)}} $$"
   ]
  },
  {
   "cell_type": "markdown",
   "metadata": {},
   "source": [
    "$$ = \\frac{1}{\\left(1+\\frac{\\left(1-\\phi\\right)}{\\phi}e^\\left(-\\frac{1}{2}\\left(x-\\mu_{-1}\\right)\\Sigma^{-1}\\left(x-\\mu_{-1}\\right)+\\frac{1}{2}\\left(x-\\mu_{1}\\right)\\Sigma^{-1}\\left(x-\\mu_{1}\\right)\\right)\\right)} $$"
   ]
  },
  {
   "cell_type": "markdown",
   "metadata": {},
   "source": [
    "$$ = \\frac{1}{\\left(1+e^\\left(log\\left(\\frac{\\left(1-\\phi\\right)}{\\phi}\\right)-\\frac{1}{2}\\left(x-\\mu_{-1}\\right)\\Sigma^{-1}\\left(x-\\mu_{-1}\\right)+\\frac{1}{2}\\left(x-\\mu_{1}\\right)\\Sigma^{-1}\\left(x-\\mu_{1}\\right)\\right)\\right)} $$"
   ]
  },
  {
   "cell_type": "markdown",
   "metadata": {},
   "source": [
    "$$ p\\left(y=1|x;\\phi,\\Sigma,\\mu_{-1},\\mu_1\\right) = \\frac{1}{\\left(1+e^\\left(log\\left(\\frac{\\left(1-\\phi\\right)}{\\phi}\\right)+\\frac{1}{2}\\mu_{-1}\\Sigma^{-1}\\mu_{-1}-\\frac{1}{2}\\mu_{1}\\Sigma^{-1}\\mu_{1}-\\left(\\mu_{-1}^{\\top}-\\mu_{1}\\right)\\Sigma^{-1}x\\right)\\right)} $$"
   ]
  },
  {
   "cell_type": "markdown",
   "metadata": {},
   "source": [
    "$$ \\theta^{\\top} = -\\left(\\mu_{-1}^{\\top}-\\mu_{1}^{\\top}\\right)\\Sigma^{-1} $$"
   ]
  },
  {
   "cell_type": "markdown",
   "metadata": {},
   "source": [
    "$$ \\theta_0 = \\left(log\\left(\\frac{\\left(1-\\phi\\right)}{\\phi}\\right)+\\frac{1}{2}\\mu_{-1}\\Sigma^{-1}\\mu_{-1}-\\frac{1}{2}\\mu_{1}\\Sigma^{-1}\\mu_{1}\\right)$$"
   ]
  },
  {
   "cell_type": "markdown",
   "metadata": {},
   "source": [
    "Similarly for y = -1:\n",
    "$$ p\\left(y=1|x;\\phi,\\Sigma,\\mu_{-1},\\mu_1\\right) = \\frac{1}{\\left(1+e^\\left(log\\left(\\frac{\\phi}{\\left(1-\\phi\\right)}\\right)+\\frac{1}{2}\\mu_{1}\\Sigma^{-1}\\mu_{1}-\\frac{1}{2}\\mu_{-1}\\Sigma^{-1}\\mu_{-1}-\\left(\\mu_{1}^{\\top}-\\mu_{-1}\\right)\\Sigma^{-1}x\\right)\\right)} $$"
   ]
  },
  {
   "cell_type": "markdown",
   "metadata": {},
   "source": [
    "$$ \\theta_{y=-1}^{\\top} = \\left(\\mu_{-1}^{\\top}-\\mu_{1}^{\\top}\\right)\\Sigma^{-1} $$\n",
    "$$ \\theta_{0,y=-1} = -\\left(log\\left(\\frac{\\left(1-\\phi\\right)}{\\phi}\\right)+\\frac{1}{2}\\mu_{-1}\\Sigma^{-1}\\mu_{-1}-\\frac{1}{2}\\mu_{1}\\Sigma^{-1}\\mu_{1}\\right)$$\n",
    "$$ \\implies p\\left(y=1|x;\\phi,\\Sigma,\\mu_{-1},\\mu_1\\right) = \\frac{1}{1+e^{-y\\left(\\theta^{\\top}x+\\theta_{0}\\right)}} $$"
   ]
  },
  {
   "cell_type": "markdown",
   "metadata": {},
   "source": [
    "![title](images/ps1_problem3b.png)"
   ]
  },
  {
   "cell_type": "markdown",
   "metadata": {},
   "source": [
    "$$ l\\left(\\phi, \\mu_{-1}, \\mu{1}, \\Sigma\\right) = log\\left(\\prod_{i=1}^{m}p\\left(x^{\\left(i\\right)}|y^{\\left(i\\right)}\\right)p\\left(y^{\\left(i\\right)}\\right)\\right)$$"
   ]
  },
  {
   "cell_type": "markdown",
   "metadata": {},
   "source": [
    "## Answer:\n",
    "Let $m_1$ equal number of points where $y = 1$\n",
    "$$ l\\left(\\phi, \\mu_{-1}, \\mu{1}, \\Sigma\\right) = log\\left(\\prod_{i=1}^{m_1}p\\left(x^{\\left(i\\right)}|y^{\\left(i\\right)}=1\\right)p\\left(y^{\\left(i\\right)}=1\\right)\n",
    "\\mathbb{1}\\{y^{\\left(i\\right)}=1\\}\\right)+ log\\left(\\prod_{i=\\left(m_1+1\\right)}^{m}p\\left(x^{\\left(i\\right)}|y^{\\left(i\\right)}=-1\\right)p\\left(y^{\\left(i\\right)}=-1\\right)\\mathbb{1}\\{y^{\\left(i\\right)}=-1\\}\\right)$$\n",
    "$$ = log\\left(\\prod_{i=1}^{m_1}p\\left(x^{\\left(i\\right)}|y^{\\left(i\\right)}=1\\right)\\phi\\mathbb{1}\\{y^{\\left(i\\right)}=1\\}\\right)\n",
    "+ log\\left(\\prod_{i=\\left(m_1+1\\right)}^{m}p\\left(x^{\\left(i\\right)}|y^{\\left(i\\right)}=-1\\right)\\left(1-\\phi\\right)\\mathbb{1}\\{y^{\\left(i\\right)}=-1\\}\\right)$$"
   ]
  },
  {
   "cell_type": "markdown",
   "metadata": {},
   "source": [
    "$$ = log\\left(\\prod_{i=1}^{m_1}p\\left(x^{\\left(i\\right)}|y^{\\left(i\\right)}=1\\right)\\right)\n",
    "+ log\\left(\\prod_{i=1}^{m_1}\\phi\\mathbb{1}\\{y^{\\left(i\\right)}=1\\}\\right)\n",
    "+ log\\left(\\prod_{i=\\left(m_1+1\\right)}^{m}p\\left(x^{\\left(i\\right)}|y^{\\left(i\\right)}=-1\\right)\\right)\n",
    "+ log\\left(\\prod_{i=\\left(m_1+1\\right)}^{m}\\left(1-\\phi\\right)\\mathbb{1}\\{y^{\\left(i\\right)}=-1\\}\\right)$$"
   ]
  },
  {
   "cell_type": "markdown",
   "metadata": {},
   "source": [
    "Let's start with $\\phi$:\n",
    "$$ \\frac{\\partial{l}}{\\partial{\\phi}} = \\sum_{i=1}^{m_1}\\frac{\\mathbb{1}\\{y^{\\left(i\\right)}=1\\}}{\\phi}\n",
    "+ \\sum_{i=\\left(m_1+1\\right)}^{m}\\frac{\\mathbb{1}\\{y^{\\left(i\\right)}=-1\\}}{\\left(1-\\phi\\right)} = 0$$"
   ]
  },
  {
   "cell_type": "markdown",
   "metadata": {},
   "source": [
    "$$  = \\sum_{i=1}^{m_1}\\frac{-\\left(1-\\phi\\right)\\mathbb{1}\\{y^{\\left(i\\right)}=1\\}}{\\phi\\left(1-\\phi\\right)}\n",
    "+ \\sum_{i=\\left(m_1+1\\right)}^{m}\\frac{\\phi\\mathbb{1}\\{y^{\\left(i\\right)}=-1\\}}{\\phi\\left(1-\\phi\\right)} = 0$$\n",
    "$$  = \\sum_{i=1}^{m_1}-\\left(1-\\phi\\right)\\mathbb{1}\\{y^{\\left(i\\right)}=1\\}\n",
    "+ \\sum_{i=\\left(m_1+1\\right)}^{m}\\phi\\mathbb{1}\\{y^{\\left(i\\right)}=-1\\} = 0$$"
   ]
  },
  {
   "cell_type": "markdown",
   "metadata": {},
   "source": [
    "$$  = \\sum_{i=1}^{m_1}-\\mathbb{1}\\{y^{\\left(i\\right)}=1\\}\n",
    "+ \\sum_{i=\\left(m_1+1\\right)}^{m}\\phi\\mathbb{1}\\{y^{\\left(i\\right)}=1\\}\n",
    "+ \\sum_{i=1}^{m_1}\\phi\\mathbb{1}\\{y^{\\left(i\\right)}=-1\\} = 0$$\n",
    "$$  = \\sum_{i=\\left(m_1+1\\right)}^{m}-\\mathbb{1}\\{y^{\\left(i\\right)}=1\\} -m\\phi = 0$$\n",
    "This gives us for $\\phi$: $$ \\phi = \\sum_{i=1}^{m_1}\\mathbb{1}\\{y^{\\left(i\\right)}=1\\}/m $$"
   ]
  },
  {
   "cell_type": "markdown",
   "metadata": {},
   "source": [
    "Now, let's look at $\\mu_{-1}$:\n",
    "$$ \\frac{\\partial{l}}{\\partial{\\mu_{-1}}}= \\frac{\\partial{log\\left(\\prod_{i=\\left(m_1+1\\right)}^{m}p\\left(x^{\\left(i\\right)}|y^{\\left(i\\right)}=-1\\right)\\right)}}{\\partial{\\mu_{-1}}}  = 0 $$\n",
    "$$ = \\frac{\\partial{\\prod_{i=\\left(m_1+1\\right)}^{m}log\\left(\\frac{1} {\\sigma\\sqrt{2\\pi}}{e^{-(x - \\mu_{-1})^{2}/(2\\sigma^{2}) }}\\right)} }{\\partial{\\mu_{-1}}} $$"
   ]
  },
  {
   "cell_type": "markdown",
   "metadata": {},
   "source": [
    "$$ = \\sum_{i=\\left(m_1+1\\right)}^{m}\\frac{\\left(x - \\mu_{-1}\\right)}{\\sigma}  = 0$$\n",
    "$$ \\mu_{-1} = \\frac{\\sum_{\\left(m_1+1\\right)}^{m}x} {\\sum_{\\left(m_1+1\\right)}^{m}}$$\n",
    "$$ \\mu_{-1} = \\frac{\\sum_{\\left(\\phi\\mathbb{1}\\{y^{\\left(i\\right)}=-1\\}\\right)}^{m}x} {\\sum_{\\left(\\phi\\mathbb{1}\\{y^{\\left(i\\right)}=-1\\}\\right)}^{m}}$$"
   ]
  },
  {
   "cell_type": "markdown",
   "metadata": {},
   "source": [
    "Similarly for $\\mu_1$:\n",
    "Now, let's look at $\\mu_{-1}$:\n",
    "$$ \\frac{\\partial{l}}{\\partial{\\mu_{1}}}= \\frac{\\partial{log\\left(\\prod_{i=1}^{m_1}p\\left(x^{\\left(i\\right)}|y^{\\left(i\\right)}=1\\right)\\right)}}{\\partial{\\mu_{1}}}  = 0 $$\n",
    "$$ = \\frac{\\partial{\\prod_{i=1}^{m_1}log\\left(\\frac{1} {\\sigma\\sqrt{2\\pi}}{e^{-(x - \\mu_{1})^{2}/(2\\sigma^{2}) }}\\right)} }{\\partial{\\mu_{1}}} $$"
   ]
  },
  {
   "cell_type": "markdown",
   "metadata": {},
   "source": [
    "$$ = \\sum_{i=\\left(m_1+1\\right)}^{m}\\frac{\\left(x - \\mu_{1}\\right)}{\\Sigma}  = 0$$\n",
    "$$ \\mu_{1} = \\frac{\\sum_{\\left(m_1+1\\right)}^{m}x} {\\sum_{\\left(m_1+1\\right)}^{m}}$$\n",
    "$$ \\mu_{1} = \\frac{\\sum_{\\left(\\phi\\mathbb{1}\\{y^{\\left(i\\right)}=1\\}\\right)}^{m}x} {\\sum_{\\left(\\phi\\mathbb{1}\\{y^{\\left(i\\right)}=1\\}\\right)}^{m}}$$"
   ]
  },
  {
   "cell_type": "markdown",
   "metadata": {},
   "source": [
    "Finally, let's look at $\\Sigma$:\n",
    "$$\\frac{\\partial{l}}{\\partial{\\Sigma}} = \\frac{\\partial{\\prod_{i=1}^{m_1}log\\left(\\frac{1}{\\sqrt{2\\pi\\Sigma}}\\right)}}{\\partial{\\Sigma}} + \\frac{\\partial{\\prod_{i=1}^{m_1}log\\left(e^{-(x - \\mu_{-1})^{2}/(2|\\Sigma|) }\\right)}}{\\partial{\\Sigma}}+\n",
    "\\frac{\\partial{\\prod_{i=\\left(m+1\\right)}^{m}log\\left(\\frac{1}{\\sqrt{2\\pi\\Sigma}}\\right)}}{\\partial{\\Sigma}} + \\frac{\\partial{\\prod_{i=\\left(m+1\\right)}^{m}log\\left(e^{-(x - \\mu_{-1})^{2}/(2|\\Sigma|) }\\right)}}{\\partial{\\Sigma}}$$"
   ]
  },
  {
   "cell_type": "markdown",
   "metadata": {},
   "source": [
    "$$ = -\\sum_{i=1}^{m}\\frac{2\\pi}{2\\sqrt{2\\pi\\Sigma}}\n",
    "+ \\frac{\\partial{\\sum_{i=1}^{m_1}\\left({-(x - \\mu_{1})^{2}/(2|\\Sigma|) }\\right)}}{\\partial{\\Sigma}}\n",
    "+ \\frac{\\partial{\\sum_{i=\\left(m_1+1\\right)}^{m}\\left({-(x - \\mu_{-1})^{2}/(2|\\Sigma|) }\\right)}}{\\partial{\\Sigma}}$$"
   ]
  },
  {
   "cell_type": "markdown",
   "metadata": {},
   "source": [
    "$$ = -\\sum_{i=1}^{m}\\frac{2\\pi}{2*2\\pi\\Sigma}\n",
    "+ \\sum_{i=1}^{m_1}{(x - \\mu_{1})^{2}/(2\\Sigma^2) }\n",
    "+ \\sum_{i=\\left(m_1+1\\right)}^{m}{(x - \\mu_{-1})^{2}/(2\\Sigma^2) }$$\n",
    "$$ \\sum_{i=1}^{m}\\frac{1}{2\\Sigma} = \\sum_{i=1}^{m_1}{(x - \\mu_{1})^{2}/(2\\Sigma^2) }\n",
    "+ \\sum_{i=\\left(m_1+1\\right)}^{m}{(x - \\mu_{-1})^{2}/(2\\Sigma^2) }$$\n",
    "$$ m\\Sigma = \\sum_{i=1}^{m_1}{(x - \\mu_{1})^{2}}\n",
    "+ \\sum_{i=\\left(m_1+1\\right)}^{m}{(x - \\mu_{-1})^{2}}$$\n",
    "$$ \\Sigma = \\frac{1}{m}\\sum_{i=1}^{m}{(x - \\mu_{\\left(i\\right)})^{2}}$$"
   ]
  },
  {
   "cell_type": "markdown",
   "metadata": {},
   "source": [
    "![title](images/ps1_problem3c.png)"
   ]
  },
  {
   "cell_type": "markdown",
   "metadata": {},
   "source": []
  },
  {
   "cell_type": "markdown",
   "metadata": {},
   "source": [
    "![title](images/ps1_problem4ai.png)"
   ]
  },
  {
   "cell_type": "markdown",
   "metadata": {},
   "source": [
    "![title](images/ps1_problem4aii.png)"
   ]
  },
  {
   "cell_type": "markdown",
   "metadata": {},
   "source": [
    "$$ z_{i+1} = z_i - H_{g\\left(z\\right)}^{-1}\\nabla{g\\left(z\\right)}$$"
   ]
  },
  {
   "cell_type": "markdown",
   "metadata": {},
   "source": [
    "$$\\nabla{g\\left(z\\right)} = A^{\\top}\\nabla{f\\left(Az\\right)}$$"
   ]
  },
  {
   "cell_type": "markdown",
   "metadata": {},
   "source": [
    "$$ H_{g\\left(z\\right)} = A^{\\top}H_{f\\left(Az\\right)}A $$"
   ]
  },
  {
   "cell_type": "markdown",
   "metadata": {},
   "source": [
    "$$ H_{g\\left(z\\right)}^{-1} = A^{-1}H_{f\\left(Az\\right)}^{-1}A^{-1 T}$$"
   ]
  },
  {
   "cell_type": "markdown",
   "metadata": {},
   "source": [
    "$$ z_{i+1} = z_i - A^{-1}H_{f\\left(Az\\right)}^{-1}A^{-1 T}A^{\\top}\\nabla{f\\left(Az\\right)}$$"
   ]
  },
  {
   "cell_type": "markdown",
   "metadata": {},
   "source": [
    "$$ = z_i - A^{-1}H_{f\\left(Az\\right)}^{-1}\\nabla{f\\left(Az\\right)}$$\n",
    "$$ = A^{-1}x^{\\left(i\\right)} - A^{-1}H_{f\\left(Az\\right)}^{-1}\\nabla{f\\left(Az\\right)}$$\n",
    "$$ = A^{-1}x^{\\left(i\\right)} - A^{-1}H_{f\\left(x\\right)}^{-1}\\nabla{f\\left(x\\right)}$$\n",
    "$$ = A^{-1}\\left(x^{\\left(i+1\\right)}\\right)$$"
   ]
  },
  {
   "cell_type": "markdown",
   "metadata": {},
   "source": [
    "![title](images/ps1_problem4b.png)"
   ]
  },
  {
   "cell_type": "markdown",
   "metadata": {},
   "source": [
    "## Answer:\n",
    "Let us argue against invariance of Newton's Method to linear reparameterization, by way of counter example:\n",
    "$$ J = -\\frac{1}{4}\\sum_{i=1}^{n}\\left(y^{\\left( i \\right)}-\\theta^{\\top}x^{\\left( i \\right)}\\right)^4 $$\n",
    "$$ \\frac{\\partial{J}}{\\theta} = \\sum_{i=1}^{n}\\left(y^{\\left( i \\right)}-\\theta^{\\top}x^{\\left( i \\right)}\\right)^3 $$\n",
    "If we define: $ \\theta' = c \\theta $, we find that $\\frac{\\partial{J}}{\\theta'} = \\frac{\\partial{J}}{\\theta}c^3$, which is non-linear"
   ]
  },
  {
   "cell_type": "markdown",
   "metadata": {},
   "source": [
    "![title](images/ps1_problem5.png)"
   ]
  },
  {
   "cell_type": "markdown",
   "metadata": {},
   "source": [
    "![title](images/ps1_problem5ai.png)"
   ]
  },
  {
   "cell_type": "markdown",
   "metadata": {},
   "source": [
    "##Answer:\n",
    "$$ y^{\\left(i\\right)} \\in \\mathbb{R} \\\\\n",
    "$$\n",
    "$$ \\overrightarrow{y} \\in \\mathbb{R}^{n\\;x\\;1} \\\\\n",
    "$$\n",
    "$$ x^{\\left(i\\right)} \\in \\mathbb{R}^{m\\;x\\;1} \\\\\n",
    "$$\n",
    "$$ \n",
    "X := \\begin{bmatrix} \n",
    "    x^{\\left(1\\right)}_{1} & x^{\\left(1\\right)}_{2} & \\dots & x^{\\left(1\\right)}_{n} \\\\\n",
    "    \\vdots & \\ddots & \\\\\n",
    "    x^{\\left(n\\right)}_{1} & x^{\\left(n\\right)}_{2} & \\dots & x^{\\left(n\\right)}_{n} \\\\\n",
    "    \\end{bmatrix} \\\\\n",
    "$$\n",
    "$$ \\theta \\in \\mathbb{R}^{mx1}  \\\\\n",
    "$$\n",
    "$$ \\left(X\\theta\\right( \\in \\mathbb{R}^{nx1}  \\\\\n",
    "$$\n",
    "$$ \\left(X\\theta - \\overrightarrow{y}\\right) \\in \\mathbb{R}^{nx1}  \\\\\n",
    "$$\n",
    "$$ \\left(X\\theta - \\overrightarrow{y}\\right)^{\\top} \\in \\mathbb{R}^{1xn}  \\\\\n",
    "$$\n",
    "$$ \\left(\\left(X\\theta - \\overrightarrow{y}\\right)^{\\top} \\left(X\\theta - \\overrightarrow{y}\\right)\\right) \\in \\mathbb{R} \\\\\n",
    "$$\n",
    "$$ Let \\; W \\in \\mathbb{R}^{nxn} \\implies \\left(\\left(X\\theta - \\overrightarrow{y}\\right)^{\\top} W \\left(X\\theta - \\overrightarrow{y}\\right)\\right) \\in \\mathbb{R} \\\\\n",
    "$$\n",
    "$$ W := \\begin{bmatrix} \n",
    "    w^{\\left(1\\right)} & 0 & \\dots & 0 \\\\\n",
    "    0 & w^{\\left(2\\right)} & \\dots & 0 \\\\\n",
    "    \\vdots &\\vdots & \\ddots & \\\\\n",
    "    0 & 0 & \\dots & w^{\\left(n\\right)} \\\\\n",
    "    \\end{bmatrix}\n",
    "$$\n",
    "$$ \\epsilon := \\left(X\\theta - \\overrightarrow{y}\\right) \\\\\n",
    "$$\n",
    "$$ W\\left(X\\theta - \\overrightarrow{y}\\right) = W\\epsilon\\\\\n",
    "$$\n",
    "$$ W\\epsilon = \\begin{bmatrix} \n",
    "    w^{\\left(1\\right)}\\epsilon{\\left(1\\right)} & 0 & \\dots & 0 \\\\\n",
    "    0 & w^{\\left(2\\right)}\\epsilon{\\left(2\\right)} & \\dots & 0 \\\\\n",
    "    \\vdots &0 & \\ddots & \\vdots \\\\\n",
    "    0 & 0 & \\dots & w^{n}\\epsilon{\\left(n\\right)} \\\\\n",
    "    \\end{bmatrix} \\\\\n",
    "    $$\n",
    "$$  \\left(\\left(X\\theta - \\overrightarrow{y}\\right)^{\\top} W \\left(X\\theta - \\overrightarrow{y}\\right)\\right)  = \\epsilon^{\\top}W\\epsilon \\\\\n",
    "$$\n",
    "$$  = \\begin{bmatrix} \n",
    "    w^{\\left(1\\right)}\\left(\\epsilon{\\left(1\\right)}\\right)^{2} & 0 & \\dots & 0 \\\\\n",
    "    0 & w^{\\left(2\\right)}\\left(\\epsilon{\\left(2\\right)}\\right)^{2} & \\dots & 0 \\\\\n",
    "    \\vdots &\\vdots & \\ddots &\\vdots\\\\\n",
    "    0 & 0 & \\dots & w^{\\left(n\\right)}\\left(\\epsilon{\\left(n\\right)}\\right)^{2} \\\\\n",
    "    \\end{bmatrix} $$"
   ]
  },
  {
   "cell_type": "markdown",
   "metadata": {},
   "source": [
    "![title](images/ps1_problem5aiia.png)"
   ]
  },
  {
   "cell_type": "markdown",
   "metadata": {},
   "source": [
    "![title](images/ps1_problem5aiib.png)"
   ]
  },
  {
   "cell_type": "markdown",
   "metadata": {},
   "source": [
    "## Answer:\n",
    "From our class notes, we know:\n",
    "![title](images/ps1_problem5aii_bii.png)\n",
    "$$ \\implies $$"
   ]
  },
  {
   "cell_type": "markdown",
   "metadata": {},
   "source": [
    "$$ J\\left(\\theta\\right) = \\left(\\left(X\\theta - \\overrightarrow{y}\\right)^{\\top} W \\left(X\\theta - \\overrightarrow{y}\\right)\\right) =  \\theta^{\\top} X^{\\top}WX\\theta - \\theta^{\\top} X^{\\top}W\\overrightarrow{y} - y^{\\top}WX\\theta + \\overrightarrow{y}^{\\top}W\\overrightarrow{y}\\\\\n",
    "$$\n",
    "$$ Note: \\theta^{\\top} X^{\\top}W\\overrightarrow{y} = \\left(\\theta^{\\top} X^{\\top}W\\overrightarrow{y}\\right)^{\\top} \\in \\mathbb{R} \\\\\n",
    "$$\n",
    "$$ \\implies J\\left(\\theta\\right) =  \\theta^{\\top} X^{\\top}WX\\theta - 2\\theta^{\\top} X^{\\top}W\\overrightarrow{y} + \\overrightarrow{y}^{\\top}W\\overrightarrow{y}\\\\\n",
    "$$"
   ]
  },
  {
   "cell_type": "markdown",
   "metadata": {},
   "source": [
    "$$ \\frac{\\partial{J}}{\\partial{\\theta}} = 2 X^{\\top}WX\\theta - 2X^{\\top}W\\overrightarrow{y} = 0 \\\\\n",
    "$$\n",
    "$$2 X^{\\top}WX\\theta = 2X^{\\top}W\\overrightarrow{y} = 0 \\\\\n",
    "$$\n",
    "$$\\theta = \\left(X^{\\top}WX\\right)^{-1}X^{\\top}W\\overrightarrow{y} \\\\\n",
    "$$"
   ]
  },
  {
   "cell_type": "markdown",
   "metadata": {},
   "source": [
    "![title](images/ps1_problem5aiii.png)"
   ]
  },
  {
   "cell_type": "markdown",
   "metadata": {},
   "source": [
    "$$Let:\\\\\n",
    "L\\left(\\theta\\right) = \\prod_{i=1}^{m}p\\left(y^{\\left(i\\right)}|x^{\\left(i\\right)};\\theta\\right) \\\\\n",
    "l\\left(\\theta\\right) = log\\left(\\prod_{i=1}^{m}p\\left(y^{\\left(i\\right)}|x^{\\left(i\\right)};\\theta\\right)\\right) \\\\\n",
    "l\\left(\\theta\\right) = \\sum_{i=1}^{m}log\\left(p\\left(y^{\\left(i\\right)}|x^{\\left(i\\right)};\\theta\\right)\\right) \\\\\n",
    "l\\left(\\theta\\right) = C + \\sum_{i=1}^{m}\\frac{-\\left(y^{\\left(i\\right)} - \\theta^{\\top}x^{\\left(i\\right)}\\right)^2}{2\\left(\\sigma^{\\left(i\\right)}\\right)^2} \\\\\n",
    "\\tilde{\\sigma} = \\frac{1}{m}\\sum_{i=1}^{m}\\left(\\sigma^{\\left(i\\right)}\\right)^2 \\\\\n",
    "w^{\\left(i\\right)} := \\frac{\\tilde{\\sigma^2}}{\\sigma^{\\left(i\\right)}} \\\\\n",
    "l_w\\left(\\theta\\right) = C + \\sum_{i=1}^{m}\\frac{-w^{\\left(i\\right)}\\left(y^{\\left(i\\right)} - \\theta^{\\top}x^{\\left(i\\right)}\\right)^2}{2\\tilde{\\sigma}^2} \\\\\n",
    "$$"
   ]
  },
  {
   "cell_type": "markdown",
   "metadata": {},
   "source": [
    "![title](images/ps1_problem5bi.png)"
   ]
  },
  {
   "cell_type": "markdown",
   "metadata": {},
   "source": [
    "[Answers Here](ps1_problem_5.ipynb#5.b.i)"
   ]
  },
  {
   "cell_type": "markdown",
   "metadata": {},
   "source": [
    "![title](images/ps1_problem5bii.png)"
   ]
  },
  {
   "cell_type": "markdown",
   "metadata": {},
   "source": [
    "[Answers Here](ps1_problem_5.ipynb#5.b.ii)"
   ]
  },
  {
   "cell_type": "markdown",
   "metadata": {},
   "source": [
    "![title](images/ps1_problem5biii.png)"
   ]
  },
  {
   "cell_type": "markdown",
   "metadata": {},
   "source": [
    "[Answers Here](ps1_problem_5.ipynb#5.b.iii)"
   ]
  },
  {
   "cell_type": "markdown",
   "metadata": {},
   "source": [
    "![title](images/ps1_problem5c.png)"
   ]
  },
  {
   "cell_type": "markdown",
   "metadata": {},
   "source": [
    "![title](images/ps1_problem5ci.png)"
   ]
  },
  {
   "cell_type": "markdown",
   "metadata": {},
   "source": [
    "[Answers Here](ps1_problem_5.ipynb#5.c.i)"
   ]
  },
  {
   "cell_type": "markdown",
   "metadata": {},
   "source": [
    "![title](images/ps1_problem5ciia.png)"
   ]
  },
  {
   "cell_type": "markdown",
   "metadata": {},
   "source": [
    "![title](images/ps1_problem5ciib.png)"
   ]
  },
  {
   "cell_type": "markdown",
   "metadata": {},
   "source": [
    "[Answers Here](ps1_problem_5.ipynb#5.c.ii)"
   ]
  },
  {
   "cell_type": "markdown",
   "metadata": {},
   "source": [
    "![title](images/ps1_problem5ciii.png)"
   ]
  },
  {
   "cell_type": "markdown",
   "metadata": {},
   "source": [
    "[Answers Here](ps1_problem_5.ipynb#5.c.iii)"
   ]
  },
  {
   "cell_type": "code",
   "execution_count": null,
   "metadata": {},
   "outputs": [],
   "source": []
  }
 ],
 "metadata": {
  "kernelspec": {
   "display_name": "Python 3",
   "language": "python",
   "name": "python3"
  },
  "language_info": {
   "codemirror_mode": {
    "name": "ipython",
    "version": 3
   },
   "file_extension": ".py",
   "mimetype": "text/x-python",
   "name": "python",
   "nbconvert_exporter": "python",
   "pygments_lexer": "ipython3",
   "version": "3.7.6"
  }
 },
 "nbformat": 4,
 "nbformat_minor": 4
}
