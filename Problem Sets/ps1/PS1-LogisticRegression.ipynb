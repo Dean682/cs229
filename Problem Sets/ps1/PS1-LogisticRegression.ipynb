{
 "cells": [
  {
   "cell_type": "code",
   "execution_count": 1,
   "metadata": {},
   "outputs": [],
   "source": [
    "%matplotlib inline\n",
    "import matplotlib\n",
    "import matplotlib.pyplot as plt\n",
    "import numpy as np\n",
    "import pandas as pd\n",
    "import seaborn as sn"
   ]
  },
  {
   "cell_type": "code",
   "execution_count": 231,
   "metadata": {},
   "outputs": [],
   "source": [
    "dir = './data/'\n",
    "df_x = pd.read_fwf(dir+'logistic_x.txt', header=None, names=['x1', 'x2'])\n",
    "df_y = pd.read_fwf(dir+'logistic_y.txt', header=None, names=['y'])"
   ]
  },
  {
   "cell_type": "code",
   "execution_count": 232,
   "metadata": {},
   "outputs": [
    {
     "data": {
      "text/html": [
       "<div>\n",
       "<style scoped>\n",
       "    .dataframe tbody tr th:only-of-type {\n",
       "        vertical-align: middle;\n",
       "    }\n",
       "\n",
       "    .dataframe tbody tr th {\n",
       "        vertical-align: top;\n",
       "    }\n",
       "\n",
       "    .dataframe thead th {\n",
       "        text-align: right;\n",
       "    }\n",
       "</style>\n",
       "<table border=\"1\" class=\"dataframe\">\n",
       "  <thead>\n",
       "    <tr style=\"text-align: right;\">\n",
       "      <th></th>\n",
       "      <th>x1</th>\n",
       "      <th>x2</th>\n",
       "    </tr>\n",
       "  </thead>\n",
       "  <tbody>\n",
       "    <tr>\n",
       "      <th>58</th>\n",
       "      <td>7.071846</td>\n",
       "      <td>-0.349617</td>\n",
       "    </tr>\n",
       "    <tr>\n",
       "      <th>64</th>\n",
       "      <td>7.705401</td>\n",
       "      <td>1.604556</td>\n",
       "    </tr>\n",
       "    <tr>\n",
       "      <th>13</th>\n",
       "      <td>2.677034</td>\n",
       "      <td>-3.019859</td>\n",
       "    </tr>\n",
       "    <tr>\n",
       "      <th>22</th>\n",
       "      <td>3.365248</td>\n",
       "      <td>-1.816494</td>\n",
       "    </tr>\n",
       "    <tr>\n",
       "      <th>11</th>\n",
       "      <td>3.094743</td>\n",
       "      <td>-3.644614</td>\n",
       "    </tr>\n",
       "  </tbody>\n",
       "</table>\n",
       "</div>"
      ],
      "text/plain": [
       "          x1        x2\n",
       "58  7.071846 -0.349617\n",
       "64  7.705401  1.604556\n",
       "13  2.677034 -3.019859\n",
       "22  3.365248 -1.816494\n",
       "11  3.094743 -3.644614"
      ]
     },
     "execution_count": 232,
     "metadata": {},
     "output_type": "execute_result"
    }
   ],
   "source": [
    "df_x.sample(5)"
   ]
  },
  {
   "cell_type": "code",
   "execution_count": 233,
   "metadata": {},
   "outputs": [],
   "source": [
    "df_x.loc[:,'x0'] = 1.0"
   ]
  },
  {
   "cell_type": "code",
   "execution_count": 249,
   "metadata": {},
   "outputs": [],
   "source": [
    "df_x = df_x[['x0', 'x1', 'x2']]"
   ]
  },
  {
   "cell_type": "code",
   "execution_count": 250,
   "metadata": {},
   "outputs": [
    {
     "data": {
      "text/html": [
       "<div>\n",
       "<style scoped>\n",
       "    .dataframe tbody tr th:only-of-type {\n",
       "        vertical-align: middle;\n",
       "    }\n",
       "\n",
       "    .dataframe tbody tr th {\n",
       "        vertical-align: top;\n",
       "    }\n",
       "\n",
       "    .dataframe thead th {\n",
       "        text-align: right;\n",
       "    }\n",
       "</style>\n",
       "<table border=\"1\" class=\"dataframe\">\n",
       "  <thead>\n",
       "    <tr style=\"text-align: right;\">\n",
       "      <th></th>\n",
       "      <th>x0</th>\n",
       "      <th>x1</th>\n",
       "      <th>x2</th>\n",
       "    </tr>\n",
       "  </thead>\n",
       "  <tbody>\n",
       "    <tr>\n",
       "      <th>count</th>\n",
       "      <td>99.0</td>\n",
       "      <td>99.000000</td>\n",
       "      <td>99.000000</td>\n",
       "    </tr>\n",
       "    <tr>\n",
       "      <th>mean</th>\n",
       "      <td>1.0</td>\n",
       "      <td>3.923295</td>\n",
       "      <td>-0.349697</td>\n",
       "    </tr>\n",
       "    <tr>\n",
       "      <th>std</th>\n",
       "      <td>0.0</td>\n",
       "      <td>1.929964</td>\n",
       "      <td>1.771731</td>\n",
       "    </tr>\n",
       "    <tr>\n",
       "      <th>min</th>\n",
       "      <td>1.0</td>\n",
       "      <td>0.570799</td>\n",
       "      <td>-4.006504</td>\n",
       "    </tr>\n",
       "    <tr>\n",
       "      <th>25%</th>\n",
       "      <td>1.0</td>\n",
       "      <td>2.253922</td>\n",
       "      <td>-1.690592</td>\n",
       "    </tr>\n",
       "    <tr>\n",
       "      <th>50%</th>\n",
       "      <td>1.0</td>\n",
       "      <td>3.717708</td>\n",
       "      <td>-0.219744</td>\n",
       "    </tr>\n",
       "    <tr>\n",
       "      <th>75%</th>\n",
       "      <td>1.0</td>\n",
       "      <td>5.600951</td>\n",
       "      <td>1.110637</td>\n",
       "    </tr>\n",
       "    <tr>\n",
       "      <th>max</th>\n",
       "      <td>1.0</td>\n",
       "      <td>7.705401</td>\n",
       "      <td>3.812866</td>\n",
       "    </tr>\n",
       "  </tbody>\n",
       "</table>\n",
       "</div>"
      ],
      "text/plain": [
       "         x0         x1         x2\n",
       "count  99.0  99.000000  99.000000\n",
       "mean    1.0   3.923295  -0.349697\n",
       "std     0.0   1.929964   1.771731\n",
       "min     1.0   0.570799  -4.006504\n",
       "25%     1.0   2.253922  -1.690592\n",
       "50%     1.0   3.717708  -0.219744\n",
       "75%     1.0   5.600951   1.110637\n",
       "max     1.0   7.705401   3.812866"
      ]
     },
     "execution_count": 250,
     "metadata": {},
     "output_type": "execute_result"
    }
   ],
   "source": [
    "df_x.describe()"
   ]
  },
  {
   "cell_type": "code",
   "execution_count": 251,
   "metadata": {},
   "outputs": [
    {
     "data": {
      "text/html": [
       "<div>\n",
       "<style scoped>\n",
       "    .dataframe tbody tr th:only-of-type {\n",
       "        vertical-align: middle;\n",
       "    }\n",
       "\n",
       "    .dataframe tbody tr th {\n",
       "        vertical-align: top;\n",
       "    }\n",
       "\n",
       "    .dataframe thead th {\n",
       "        text-align: right;\n",
       "    }\n",
       "</style>\n",
       "<table border=\"1\" class=\"dataframe\">\n",
       "  <thead>\n",
       "    <tr style=\"text-align: right;\">\n",
       "      <th></th>\n",
       "      <th>y</th>\n",
       "    </tr>\n",
       "  </thead>\n",
       "  <tbody>\n",
       "    <tr>\n",
       "      <th>count</th>\n",
       "      <td>99.000000</td>\n",
       "    </tr>\n",
       "    <tr>\n",
       "      <th>mean</th>\n",
       "      <td>-0.010101</td>\n",
       "    </tr>\n",
       "    <tr>\n",
       "      <th>std</th>\n",
       "      <td>1.005038</td>\n",
       "    </tr>\n",
       "    <tr>\n",
       "      <th>min</th>\n",
       "      <td>-1.000000</td>\n",
       "    </tr>\n",
       "    <tr>\n",
       "      <th>25%</th>\n",
       "      <td>-1.000000</td>\n",
       "    </tr>\n",
       "    <tr>\n",
       "      <th>50%</th>\n",
       "      <td>-1.000000</td>\n",
       "    </tr>\n",
       "    <tr>\n",
       "      <th>75%</th>\n",
       "      <td>1.000000</td>\n",
       "    </tr>\n",
       "    <tr>\n",
       "      <th>max</th>\n",
       "      <td>1.000000</td>\n",
       "    </tr>\n",
       "  </tbody>\n",
       "</table>\n",
       "</div>"
      ],
      "text/plain": [
       "               y\n",
       "count  99.000000\n",
       "mean   -0.010101\n",
       "std     1.005038\n",
       "min    -1.000000\n",
       "25%    -1.000000\n",
       "50%    -1.000000\n",
       "75%     1.000000\n",
       "max     1.000000"
      ]
     },
     "execution_count": 251,
     "metadata": {},
     "output_type": "execute_result"
    }
   ],
   "source": [
    "df_y.describe()"
   ]
  },
  {
   "cell_type": "code",
   "execution_count": 252,
   "metadata": {},
   "outputs": [],
   "source": [
    "theta = np.zeros((df_x.shape[1],1))"
   ]
  },
  {
   "cell_type": "code",
   "execution_count": 253,
   "metadata": {},
   "outputs": [
    {
     "data": {
      "text/plain": [
       "array([[0.],\n",
       "       [0.],\n",
       "       [0.]])"
      ]
     },
     "execution_count": 253,
     "metadata": {},
     "output_type": "execute_result"
    }
   ],
   "source": [
    "theta"
   ]
  },
  {
   "cell_type": "code",
   "execution_count": 254,
   "metadata": {},
   "outputs": [],
   "source": [
    "def sigmoid(x):\n",
    "    a = 1/(1+ np.exp(-x))\n",
    "    return a"
   ]
  },
  {
   "cell_type": "code",
   "execution_count": 255,
   "metadata": {},
   "outputs": [],
   "source": [
    "def log_loss(h, x):\n",
    "    p_hat = -np.log(h(x))\n",
    "    return p_hat"
   ]
  },
  {
   "cell_type": "code",
   "execution_count": 256,
   "metadata": {},
   "outputs": [],
   "source": [
    "def J(Y, X, theta):\n",
    "    m=Y.shape[0] * 1.0\n",
    "    z = np.multiply(Y, X @ theta)\n",
    "    losses = log_loss(sigmoid, z)\n",
    "    loss = np.sum(losses, axis=0)/m\n",
    "    return loss"
   ]
  },
  {
   "cell_type": "code",
   "execution_count": 257,
   "metadata": {},
   "outputs": [
    {
     "data": {
      "text/plain": [
       "y    0.693147\n",
       "dtype: float64"
      ]
     },
     "execution_count": 257,
     "metadata": {},
     "output_type": "execute_result"
    }
   ],
   "source": [
    "J(df_y, df_x, theta)"
   ]
  },
  {
   "cell_type": "code",
   "execution_count": 258,
   "metadata": {},
   "outputs": [],
   "source": [
    "z = np.multiply(df_y, df_x @ theta)"
   ]
  },
  {
   "cell_type": "code",
   "execution_count": 259,
   "metadata": {},
   "outputs": [],
   "source": [
    "losses = log_loss(sigmoid, z)"
   ]
  },
  {
   "cell_type": "code",
   "execution_count": 260,
   "metadata": {},
   "outputs": [],
   "source": [
    "loss = np.sum(losses, axis=0)"
   ]
  },
  {
   "cell_type": "code",
   "execution_count": 261,
   "metadata": {},
   "outputs": [
    {
     "data": {
      "text/plain": [
       "(99, 1)"
      ]
     },
     "execution_count": 261,
     "metadata": {},
     "output_type": "execute_result"
    }
   ],
   "source": [
    "losses.shape"
   ]
  },
  {
   "cell_type": "code",
   "execution_count": 262,
   "metadata": {},
   "outputs": [
    {
     "data": {
      "text/plain": [
       "(1,)"
      ]
     },
     "execution_count": 262,
     "metadata": {},
     "output_type": "execute_result"
    }
   ],
   "source": [
    "loss.shape"
   ]
  },
  {
   "cell_type": "code",
   "execution_count": 300,
   "metadata": {},
   "outputs": [],
   "source": [
    "def grad_J(Y, X, theta):\n",
    "    m = Y.shape[0]*1.0\n",
    "    z = np.multiply(Y, X @ theta)\n",
    "    ys = np.tile(Y, X.shape[1])\n",
    "    t0 = np.multiply(ys, X)\n",
    "    t1 = 1 - sigmoid(z)\n",
    "    gradients = np.multiply(t0, t1)\n",
    "    gradient = -np.sum(gradients, axis=0)/m\n",
    "    return gradient"
   ]
  },
  {
   "cell_type": "code",
   "execution_count": 301,
   "metadata": {},
   "outputs": [
    {
     "data": {
      "text/plain": [
       "x0    0.005051\n",
       "x1   -0.481506\n",
       "x2   -0.554831\n",
       "dtype: float64"
      ]
     },
     "execution_count": 301,
     "metadata": {},
     "output_type": "execute_result"
    }
   ],
   "source": [
    "grad_J(df_y, df_x, theta)"
   ]
  },
  {
   "cell_type": "code",
   "execution_count": 302,
   "metadata": {},
   "outputs": [
    {
     "data": {
      "text/plain": [
       "x0    47.669048\n",
       "x1    54.928232\n",
       "dtype: float64"
      ]
     },
     "execution_count": 302,
     "metadata": {},
     "output_type": "execute_result"
    }
   ],
   "source": [
    "gradient"
   ]
  },
  {
   "cell_type": "code",
   "execution_count": 306,
   "metadata": {},
   "outputs": [],
   "source": [
    "def Hessian_J(Y, X, theta):\n",
    "    m = Y.shape[0] * 1.0\n",
    "    z = np.multiply(Y, X @ theta)\n",
    "    a = sigmoid(z)\n",
    "    t0 = np.multiply(a, 1-a)\n",
    "    t0 = np.tile(t0, (X.shape[1]*X.shape[1]))\n",
    "    t0 = t0.reshape((X.shape[0], X.shape[1], X.shape[1]))\n",
    "    t1 = np.matmul(df_x.to_numpy()[:,:,np.newaxis], df_x.to_numpy()[:, np.newaxis, :])\n",
    "    hessians = np.multiply(t0, t1)\n",
    "    hessian = np.sum(hessians, axis=0)/m\n",
    "    return hessian"
   ]
  },
  {
   "cell_type": "code",
   "execution_count": 307,
   "metadata": {},
   "outputs": [
    {
     "data": {
      "text/plain": [
       "array([[ 0.25      ,  0.98082384, -0.08742426],\n",
       "       [ 0.98082384,  4.76984544, -0.18171064],\n",
       "       [-0.08742426, -0.18171064,  0.80740309]])"
      ]
     },
     "execution_count": 307,
     "metadata": {},
     "output_type": "execute_result"
    }
   ],
   "source": [
    "Hessian_J(df_y, df_x, theta)"
   ]
  },
  {
   "cell_type": "code",
   "execution_count": 308,
   "metadata": {},
   "outputs": [
    {
     "data": {
      "text/plain": [
       "array([[ 4.76984544, -0.18171064],\n",
       "       [-0.18171064,  0.80740309]])"
      ]
     },
     "execution_count": 308,
     "metadata": {},
     "output_type": "execute_result"
    }
   ],
   "source": [
    "hessian"
   ]
  },
  {
   "cell_type": "code",
   "execution_count": 365,
   "metadata": {},
   "outputs": [],
   "source": [
    "def newtons_method(Y, X, theta=None, epsilon=0.00000001):\n",
    "    if theta is None:\n",
    "        theta = np.zeros((X.shape[1],1))\n",
    "        \n",
    "    iterations = 0\n",
    "    while True:\n",
    "        hessian_inv = np.linalg.inv(Hessian_J(df_y, df_x, theta))\n",
    "        gradient = grad_J(df_y, df_x, theta)\n",
    "        theta_adjust = -hessian_inv @ gradient\n",
    "        theta_adjust = theta_adjust.reshape((X.shape[1], -1))\n",
    "        if np.abs(np.linalg.norm(theta_adjust)) < epsilon:\n",
    "            break\n",
    "        theta += theta_adjust\n",
    "        iterations += 1\n",
    "        print(f'number of iterations: {iterations}, hessian_inv: {hessian_inv}, gradient: {gradient}')\n",
    "        print(f'theta_adjust: {theta_adjust}, theta: {theta}, J(theta)={J(df_y, df_x, theta)}')\n",
    "    return theta"
   ]
  },
  {
   "cell_type": "code",
   "execution_count": 366,
   "metadata": {},
   "outputs": [
    {
     "name": "stdout",
     "output_type": "stream",
     "text": [
      "number of iterations: 1, hessian_inv: [[22.13242365 -4.49836521  1.3840792 ]\n",
      " [-4.49836521  1.125746   -0.23371994]\n",
      " [ 1.3840792  -0.23371994  1.33580452]], gradient: x0    0.005051\n",
      "x1   -0.481506\n",
      "x2   -0.554831\n",
      "dtype: float64\n",
      "theta_adjust: [[-1.50983811]\n",
      " [ 0.43509696]\n",
      " [ 0.62161752]], theta: [[-1.50983811]\n",
      " [ 0.43509696]\n",
      " [ 0.62161752]], J(theta)=y    0.374725\n",
      "dtype: float64\n",
      "number of iterations: 2, hessian_inv: [[32.88921408 -6.84626709  0.50729996]\n",
      " [-6.84626709  1.76118316  0.07421815]\n",
      " [ 0.50729996  0.07421815  2.48299552]], gradient: x0    0.000513\n",
      "x1   -0.110868\n",
      "x2   -0.132848\n",
      "dtype: float64\n",
      "theta_adjust: [[-0.7085082 ]\n",
      " [ 0.20863031]\n",
      " [ 0.33782964]], theta: [[-2.21834632]\n",
      " [ 0.64372727]\n",
      " [ 0.95944716]], J(theta)=y    0.33425\n",
      "dtype: float64\n",
      "number of iterations: 3, hessian_inv: [[46.41276773 -9.9066998  -1.4637219 ]\n",
      " [-9.9066998   2.59878999  0.69505625]\n",
      " [-1.4637219   0.69505625  4.34387524]], gradient: x0    0.000761\n",
      "x1   -0.025010\n",
      "x2   -0.036141\n",
      "dtype: float64\n",
      "theta_adjust: [[-0.33596419]\n",
      " [ 0.09764987]\n",
      " [ 0.17548872]], theta: [[-2.55431051]\n",
      " [ 0.74137714]\n",
      " [ 1.13493588]], J(theta)=y    0.329281\n",
      "dtype: float64\n",
      "number of iterations: 4, hessian_inv: [[ 55.17436751 -11.94248645  -3.22411602]\n",
      " [-11.94248645   3.16156068   1.22644325]\n",
      " [ -3.22411602   1.22644325   5.81034149]], gradient: x0    0.000224\n",
      "x1   -0.002871\n",
      "x2   -0.005434\n",
      "dtype: float64\n",
      "theta_adjust: [[-0.06416082]\n",
      " [ 0.01841534]\n",
      " [ 0.03581532]], theta: [[-2.61847133]\n",
      " [ 0.75979248]\n",
      " [ 1.1707512 ]], J(theta)=y    0.329148\n",
      "dtype: float64\n",
      "number of iterations: 5, hessian_inv: [[ 57.06326423 -12.38446161  -3.65407037]\n",
      " [-12.38446161   3.28384451   1.35407441]\n",
      " [ -3.65407037   1.35407441   6.15959332]], gradient: x0    0.000010\n",
      "x1   -0.000065\n",
      "x2   -0.000173\n",
      "dtype: float64\n",
      "theta_adjust: [[-0.00203821]\n",
      " [ 0.00057848]\n",
      " [ 0.00119429]], theta: [[-2.62050954]\n",
      " [ 0.76037096]\n",
      " [ 1.17194549]], J(theta)=y    0.329147\n",
      "dtype: float64\n",
      "number of iterations: 6, hessian_inv: [[ 57.12537246 -12.39892573  -3.66865226]\n",
      " [-12.39892573   3.28782595   1.35836531]\n",
      " [ -3.66865226   1.35836531   6.1715236 ]], gradient: x0    1.453601e-08\n",
      "x1   -4.478401e-08\n",
      "x2   -1.841646e-07\n",
      "dtype: float64\n",
      "theta_adjust: [[-2.06128451e-06]\n",
      " [ 5.77635732e-07]\n",
      " [ 1.25073658e-06]], theta: [[-2.6205116 ]\n",
      " [ 0.76037154]\n",
      " [ 1.17194674]], J(theta)=y    0.329147\n",
      "dtype: float64\n"
     ]
    }
   ],
   "source": [
    "theta_final = newtons_method(df_y, df_x)"
   ]
  },
  {
   "cell_type": "code",
   "execution_count": 367,
   "metadata": {},
   "outputs": [
    {
     "data": {
      "text/plain": [
       "array([[-2.6205116 ],\n",
       "       [ 0.76037154],\n",
       "       [ 1.17194674]])"
      ]
     },
     "execution_count": 367,
     "metadata": {},
     "output_type": "execute_result"
    }
   ],
   "source": [
    "theta_final"
   ]
  },
  {
   "cell_type": "code",
   "execution_count": 370,
   "metadata": {},
   "outputs": [],
   "source": [
    "x1 = np.arange(0,8.1,0.1)"
   ]
  },
  {
   "cell_type": "code",
   "execution_count": 372,
   "metadata": {},
   "outputs": [],
   "source": [
    "x2 = -(theta_final[0] + theta_final[1] * x1)/theta_final[2]"
   ]
  },
  {
   "cell_type": "code",
   "execution_count": 373,
   "metadata": {},
   "outputs": [
    {
     "data": {
      "text/plain": [
       "array([ 2.23603301,  2.17115194,  2.10627088,  2.04138981,  1.97650874,\n",
       "        1.91162768,  1.84674661,  1.78186555,  1.71698448,  1.65210342,\n",
       "        1.58722235,  1.52234128,  1.45746022,  1.39257915,  1.32769809,\n",
       "        1.26281702,  1.19793596,  1.13305489,  1.06817382,  1.00329276,\n",
       "        0.93841169,  0.87353063,  0.80864956,  0.7437685 ,  0.67888743,\n",
       "        0.61400636,  0.5491253 ,  0.48424423,  0.41936317,  0.3544821 ,\n",
       "        0.28960104,  0.22471997,  0.1598389 ,  0.09495784,  0.03007677,\n",
       "       -0.03480429, -0.09968536, -0.16456643, -0.22944749, -0.29432856,\n",
       "       -0.35920962, -0.42409069, -0.48897175, -0.55385282, -0.61873389,\n",
       "       -0.68361495, -0.74849602, -0.81337708, -0.87825815, -0.94313921,\n",
       "       -1.00802028, -1.07290135, -1.13778241, -1.20266348, -1.26754454,\n",
       "       -1.33242561, -1.39730667, -1.46218774, -1.52706881, -1.59194987,\n",
       "       -1.65683094, -1.721712  , -1.78659307, -1.85147413, -1.9163552 ,\n",
       "       -1.98123627, -2.04611733, -2.1109984 , -2.17587946, -2.24076053,\n",
       "       -2.30564159, -2.37052266, -2.43540373, -2.50028479, -2.56516586,\n",
       "       -2.63004692, -2.69492799, -2.75980905, -2.82469012, -2.88957119,\n",
       "       -2.95445225])"
      ]
     },
     "execution_count": 373,
     "metadata": {},
     "output_type": "execute_result"
    }
   ],
   "source": [
    "x2"
   ]
  },
  {
   "cell_type": "code",
   "execution_count": 340,
   "metadata": {},
   "outputs": [
    {
     "data": {
      "text/plain": [
       "-1.0    0.505051\n",
       " 1.0    0.494949\n",
       "Name: y, dtype: float64"
      ]
     },
     "execution_count": 340,
     "metadata": {},
     "output_type": "execute_result"
    }
   ],
   "source": [
    "df_y.y.value_counts(normalize=True)"
   ]
  },
  {
   "cell_type": "code",
   "execution_count": 360,
   "metadata": {},
   "outputs": [
    {
     "data": {
      "text/plain": [
       "Int64Index([ 0,  1,  2,  3,  4,  5,  6,  7,  8,  9, 10, 11, 12, 13, 14, 15, 16,\n",
       "            17, 18, 19, 20, 21, 22, 23, 24, 25, 26, 27, 28, 29, 30, 31, 32, 33,\n",
       "            34, 35, 36, 37, 38, 39, 40, 41, 42, 43, 44, 45, 46, 47, 48, 49],\n",
       "           dtype='int64')"
      ]
     },
     "execution_count": 360,
     "metadata": {},
     "output_type": "execute_result"
    }
   ],
   "source": [
    "df_y[df_y.y==0].index"
   ]
  },
  {
   "cell_type": "code",
   "execution_count": 362,
   "metadata": {},
   "outputs": [
    {
     "data": {
      "text/plain": [
       "Int64Index([], dtype='int64')"
      ]
     },
     "execution_count": 362,
     "metadata": {},
     "output_type": "execute_result"
    }
   ],
   "source": [
    "df_y[df_y.y==0].index"
   ]
  },
  {
   "cell_type": "code",
   "execution_count": 374,
   "metadata": {},
   "outputs": [
    {
     "data": {
      "text/plain": [
       "[]"
      ]
     },
     "execution_count": 374,
     "metadata": {},
     "output_type": "execute_result"
    },
    {
     "data": {
      "image/png": "[encoded data removed]",
      "text/plain": [
       "<Figure size 432x288 with 1 Axes>"
      ]
     },
     "metadata": {
      "needs_background": "light"
     },
     "output_type": "display_data"
    }
   ],
   "source": [
    "plt.scatter(df_x.loc[df_y[df_y.y==1].index, 'x1'], df_x.loc[df_y[df_y.y==1].index, 'x2'], marker='+')\n",
    "plt.scatter(df_x.loc[df_y[df_y.y==-1].index, 'x1'], df_x.loc[df_y[df_y.y==-1].index, 'x2'], marker='o')\n",
    "plt.plot(x1, x2)\n",
    "plt.plot()"
   ]
  },
  {
   "cell_type": "code",
   "execution_count": null,
   "metadata": {},
   "outputs": [],
   "source": [
    "logit_x = np.arange()"
   ]
  }
 ],
 "metadata": {
  "kernelspec": {
   "display_name": "Python 3",
   "language": "python",
   "name": "python3"
  },
  "language_info": {
   "codemirror_mode": {
    "name": "ipython",
    "version": 3
   },
   "file_extension": ".py",
   "mimetype": "text/x-python",
   "name": "python",
   "nbconvert_exporter": "python",
   "pygments_lexer": "ipython3",
   "version": "3.8.1"
  }
 },
 "nbformat": 4,
 "nbformat_minor": 4
}
